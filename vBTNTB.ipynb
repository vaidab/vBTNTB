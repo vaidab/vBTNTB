{
 "cells": [
  {
   "cell_type": "markdown",
   "id": "2d4110c1-2cc9-4dff-8ea7-d585f0cb4f77",
   "metadata": {},
   "source": [
    "# Backtesting Notebook\n",
    "by **@vaidab**\n",
    "Version 1.4\n",
    "\n",
    "### IDEAS\n",
    "* storing values outside of notebook to be accessed by a plotter notebook https://stackoverflow.com/questions/21248345/is-there-a-way-to-run-multiple-cells-simultaneously-in-ipython-notebook\n",
    "\n",
    "### Things to Note\n",
    "\n",
    "* This setup uses the strategy's .json files as it uses them to modify values for testing so it will remove and leave .json files in strategies directory. Remove them with update_params()\n",
    "* I'm assuming the strategy is good (you've checked the Sortino, Expectancy, etc etc and you're just optimizing the parameters).\n",
    "* I'm hyperopting outside of the notebook and pasting the results in a raw field because sometimes hyperopting doesn't work inside.\n",
    "\n",
    "### Process\n",
    "\n",
    "- [ ] Optional: exit after 5 candles to test the basics, then optimize for SL\n",
    "- [ ] Go through the smaller TFs (UP, DOWN, SIDE) until the strategy works ok\n",
    "- [ ] Test it on BTC_ONLY, then on FULL\n",
    "- [ ] Bruteforce timeframes to get the top one\n",
    "- [ ] Load strategy in FreqUI and improve it\n",
    "- [ ] Retest everything\n",
    "- [ ] Test on R21TD and YTD\n",
    "- [ ] Hyperopt (go through ProfitSquareSortinoSpringEfficiencyHyperOptLoss, SortinoHyperOptLossDaily, SortinoHyperOptLoss)\n",
    "- [ ] Retest on optimal TF on ALL, R21TD, YTD\n",
    "- [ ] Retest with pre-trade checks (like age_filter)\n",
    "- [ ] Hyperopt protections, trades\n",
    "- [ ] Retest + 1m timeframe\n",
    "- [ ] Test on R21TD and YTD for blacklisting pairs\n",
    "- [ ] Add shorting + redo hyperopt & retests"
   ]
  },
  {
   "cell_type": "markdown",
   "id": "32ad0286-ea82-42a1-9abb-e82e28c18e60",
   "metadata": {},
   "source": [
    "## Results\n",
    "\n",
    "### Mass testing to get the best timeframe\n",
    "\n",
    "| Strategy | Params | Timeframe | Result |\n",
    "|----------|----------|----------|----------|\n",
    "| BTC: L: breakout E: 5 candles | 20 | 1d | Negative |\n",
    "| ALL: L: breakout E: 5 candles | 20 | 1d - * | Positive |\n",
    "| ALL: L: breakout E: breakout_end | 20 | * | Positive |\n",
    "| ALL: L: breakout E: support breakout | 20 | * | Positive |\n",
    "\n",
    "Top timeframe(s): 12h and 1d and 8h for exit @ support breakout\n",
    "\n",
    "### Default vs hyperopted parameters\n",
    "\n",
    "| Timeframe | Timerange | Params | Result |\n",
    "|----------|----------|----------|----------|\n",
    "| 1d | FULL | 20 | 543% |\n",
    "| 1d | FULL | 17 | 595% |\n",
    "| 1d | R21TD | 20 | 1058% |\n",
    "| 1d | R21TD | 17 | 1723% |\n",
    "| 1d | YTD | 20 | 692% |\n",
    "| 1d | YTD | 17 | 380% |\n",
    "| 12h | FULL | 20 | 695% |\n",
    "| 12h | FULL | 23 | 756% |\n",
    "| 12h | R21TD | 20 | 3874% |\n",
    "| 12h | R21TD | 23 | 2134% |\n",
    "| 12h | YTD | 20 | 379% |\n",
    "| 12h | YTD | 23 | 451% |\n",
    "| 8h | FULL | 20 | -114% |\n",
    "| 8h | FULL | 27 | 1121% |\n",
    "| 8h | R21TD | 20 | 4379% |\n",
    "| 8h | R21TD | 27 | 3861% |\n",
    "| 8h | YTD | 20 | 390% |\n",
    "| 8h | YTD | 27 | 439% |\n",
    "\n",
    "Note that this section is not conclusive for the optimal parameters for the strat. R21TD is a long timerange which probably catches a lot of volatility / market spikes that could've gone either way. It's just to confirm the direction is good.\n",
    "\n",
    "### Default vs hyperopted vs protections\n",
    "\n",
    "| Timeframe | Protections |\n",
    "|----------|----------|\n",
    "| 1d | yes |\n",
    "| 12h | no |\n",
    "| 8h | maybe no |\n",
    "\n",
    "## TODO\n",
    "- [X] Optional: exit after 5 candles to test the basics, then optimize for SL\n",
    "- [X] Go through the smaller TFs (UP, DOWN, SIDE) until the strategy works ok\n",
    "- [X] Test it on BTC_ONLY, then on FULL\n",
    "- [X] Bruteforce timeframes to get the top one\n",
    "- [X] Load strategy in FreqUI and improve it\n",
    "- [X] Retest everything\n",
    "- [X] Test on R21TD and YTD\n",
    "- [X] Hyperopt (go through ProfitSquareSortinoSpringEfficiencyHyperOptLoss, SortinoHyperOptLossDaily, SortinoHyperOptLoss)\n",
    "- [X] Retest on optimal TF on ALL, R21TD, YTD\n",
    "- [X] Retest with pre-trade checks (like age_filter)\n",
    "- [X] Hyperopt protections, trades\n",
    "- [X] Retest + 1m timeframe\n",
    "- [X] Test on R21TD and YTD for blacklisting pairs\n",
    "- [ ] Add shorting + redo hyperopt & retests"
   ]
  },
  {
   "cell_type": "markdown",
   "id": "c3c3eb41-3f2e-4ceb-af81-353137bac3ee",
   "metadata": {
    "jp-MarkdownHeadingCollapsed": true
   },
   "source": [
    "# Configuration"
   ]
  },
  {
   "cell_type": "code",
   "execution_count": 2,
   "id": "ffd1fe86-1984-4f94-b45f-a2159e4978ef",
   "metadata": {
    "scrolled": true
   },
   "outputs": [],
   "source": [
    "MAINCONF=\"user_data/config/config-backtesting.json\"\n",
    "\n",
    "UP=\"20230105-20230415\"\n",
    "SIDE=\"20220108-20220420\"\n",
    "DOWN=\"20220322-20220622\"\n",
    "FULL=\"20210808-20220106\"\n",
    "YTD=\"20230101-\"\n",
    "R21TD=\"20210101-\"\n",
    "\n",
    "BTC_ONLY=\"--pairs BTC/USDT:USDT\""
   ]
  },
  {
   "cell_type": "code",
   "execution_count": 3,
   "id": "4dd068c5-0718-4fb6-b54f-e1761630add8",
   "metadata": {},
   "outputs": [],
   "source": [
    "# MAIN CONFIGURATION\n",
    "STRATEGY=\"Erumperator\"\n",
    "STRATEGY_JSON=f\"user_data/strategies/{STRATEGY}.json\"\n",
    "TIMEFRAME_DETAIL=\"\" # \"--timeframe-detail 1m\""
   ]
  },
  {
   "cell_type": "markdown",
   "id": "21ef7873-0535-49e4-b4e2-91429e5ba8d6",
   "metadata": {},
   "source": [
    "# Functions"
   ]
  },
  {
   "cell_type": "markdown",
   "id": "86842831-e8ce-4143-b971-0c51ead2c73c",
   "metadata": {
    "jp-MarkdownHeadingCollapsed": true
   },
   "source": [
    "## Default functions"
   ]
  },
  {
   "cell_type": "code",
   "execution_count": 96,
   "id": "2f520978-0f19-4c49-9f0c-4d7e2274a460",
   "metadata": {},
   "outputs": [],
   "source": [
    "import concurrent.futures\n",
    "import subprocess\n",
    "import json\n",
    "import os, sys\n",
    "import re\n",
    "import time\n",
    "from colorama import Fore, Back, Style\n",
    "\n",
    "def timer_decorator(func):\n",
    "    def wrapper(*args, **kwargs):\n",
    "        start_time = time.time()\n",
    "        result = func(*args, **kwargs)\n",
    "        end_time = time.time()\n",
    "\n",
    "        elapsed_time_seconds = end_time - start_time\n",
    "        if elapsed_time_seconds < 60:\n",
    "            print(f\"Function took {Fore.RED}{elapsed_time_seconds:.2f}{Style.RESET_ALL} seconds to execute.\")\n",
    "        elif elapsed_time_seconds < 3600:\n",
    "            elapsed_time_minutes = elapsed_time_seconds / 60.0\n",
    "            print(f\"Function took {Fore.RED}{elapsed_time_minutes:.2f}{Style.RESET_ALL} minutes to execute.\")\n",
    "        else:\n",
    "            elapsed_time_hours = elapsed_time_seconds / 3600.0\n",
    "            print(f\"Function took {Fore.RED}{elapsed_time_hours:.2f}{Style.RESET_ALL} hours to execute.\")\n",
    "        return result\n",
    "    return wrapper\n",
    "\n",
    "@timer_decorator\n",
    "def run(command):\n",
    "    result = subprocess.run(command, shell=True, capture_output=True, text=True)\n",
    "    if result.returncode != 0: raise(RuntimeError('Command failed: ' + result.stderr))\n",
    "    return result.stdout\n",
    "\n",
    "@timer_decorator\n",
    "def run_live(command):\n",
    "    process = subprocess.Popen(command, stdout=subprocess.PIPE, stderr=subprocess.PIPE, shell=True)\n",
    "    printed_lines = set()\n",
    "    while True:\n",
    "        output = process.stdout.readline().decode()\n",
    "        if output == '' and process.poll() is not None:\n",
    "            break\n",
    "        if output and not any(word in output for word in [\"INFO\", \"mark\", \"funding\", \"FUTURES\", \"optimizer/optimizer.py:44\"]) and output not in printed_lines:\n",
    "            print(output.strip())\n",
    "            printed_lines.add(output)\n",
    "    rc = process.poll()\n",
    "    return rc\n",
    "\n",
    "def bruteforce(timeframes):\n",
    "    def run_tf(timeframe):\n",
    "        cmd = f\"freqtrade backtesting --dmmp --strategy {STRATEGY} --config {MAINCONF} --timerange {TIMERANGE} --breakdown month --timeframe {timeframe}\"\n",
    "        return run(cmd)\n",
    "\n",
    "    with concurrent.futures.ThreadPoolExecutor() as executor:\n",
    "        # futures = {executor.submit(run, cmd): name for name, cmd in commands_dict.items()}\n",
    "        futures = {executor.submit(run_tf, tf): tf for tf in timeframes}\n",
    "        for future in concurrent.futures.as_completed(futures):\n",
    "            print(f\"Command for timeframe {futures[future]} finished.\")\n",
    "            print(extract_summary(future.result()))\n",
    "\n",
    "def extract_summary(output):   \n",
    "    lines = output.strip().split('\\n')\n",
    "    relevant_lines = lines[-8:-2]\n",
    "    parsed_output = '\\n'.join(relevant_lines)\n",
    "    return parsed_output\n",
    "    \n",
    "def extract_monthly(output):\n",
    "    start_marker = \"======================= MONTH BREAKDOWN ========================\"\n",
    "    append_text = \"\\n================================================================\"\n",
    "    end_marker_pattern = r\"\\n=+ SUMMARY METRICS =+\"\n",
    "\n",
    "    start_pos = output.find(start_marker)\n",
    "    \n",
    "    end_marker_match = re.search(end_marker_pattern, output)\n",
    "    if end_marker_match is None:\n",
    "        raise ValueError(f\"Could not find {end_marker_pattern} in output.\")\n",
    "    end_pos = end_marker_match.start()\n",
    "\n",
    "    section = output[start_pos:end_pos] + append_text\n",
    "\n",
    "    colored_section = section.replace(\"MONTH BREAKDOWN\", f\"{Fore.GREEN}MONTH BREAKDOWN{Style.RESET_ALL}\")\n",
    "    colored_section = colored_section.replace(\"STRATEGY SUMMARY\", f\"{Fore.GREEN}SUMMARY METRICS{Style.RESET_ALL}\")\n",
    "    return colored_section\n",
    "\n",
    "def extract_best_result(output):\n",
    "    lines = output.splitlines()\n",
    "    start_index = next((i for i, line in enumerate(lines) if line.startswith(\"Best result:\")), None)\n",
    "\n",
    "    if start_index is None:\n",
    "        raise ValueError(\"No 'Best result:' line found in output\")\n",
    "\n",
    "    best_result_lines = lines[start_index:]\n",
    "    best_result_lines_str = '\\n'.join(best_result_lines)\n",
    "    return best_result_lines_str\n",
    "\n",
    "def extract_worst_pairs(output):\n",
    "    BOTTOM_X_LINES=5\n",
    "    CURRENCY=\"/USDT\"\n",
    "    \n",
    "    start_marker_pattern = r\"\\n=+ BACKTESTING REPORT =+\"\n",
    "    end_marker_pattern = r\"\\n=+ LEFT OPEN TRADES REPORT =+\"\n",
    "\n",
    "    start_marker_match = re.search(start_marker_pattern, output)\n",
    "    if start_marker_match is None:\n",
    "        raise ValueError(f\"Could not find {start_marker_pattern} in output.\")\n",
    "    start_pos = start_marker_match.start()\n",
    "    \n",
    "    end_marker_match = re.search(end_marker_pattern, output)\n",
    "    if end_marker_match is None:\n",
    "        raise ValueError(f\"Could not find {end_marker_pattern} in output.\")\n",
    "    end_pos = end_marker_match.start()\n",
    "\n",
    "    append_text = \"=\" * (len(start_marker_match.group())-1)\n",
    "    section = output[start_pos:end_pos]\n",
    "    \n",
    "    section_lines = section.split('\\n')\n",
    "    usdt_lines = [line for line in section_lines if CURRENCY in line][-BOTTOM_X_LINES:]\n",
    "    non_usdt_lines = [line for line in section_lines if (CURRENCY not in line) and (\"TOTAL\" not in line)]\n",
    "\n",
    "    result_lines = non_usdt_lines + usdt_lines + [append_text]\n",
    "    result = '\\n'.join(result_lines)\n",
    "\n",
    "    colored_section = result.replace(\"MONTH BREAKDOWN\", f\"{Fore.GREEN}MONTH BREAKDOWN{Style.RESET_ALL}\")\n",
    "    colored_section = colored_section.replace(\"STRATEGY SUMMARY\", f\"{Fore.GREEN}SUMMARY METRICS{Style.RESET_ALL}\")\n",
    "        \n",
    "    return colored_section"
   ]
  },
  {
   "cell_type": "markdown",
   "id": "ba628cd3-7399-4a29-ac7d-43dec9e215cf",
   "metadata": {
    "jp-MarkdownHeadingCollapsed": true
   },
   "source": [
    "## User editable functions"
   ]
  },
  {
   "cell_type": "code",
   "execution_count": 26,
   "id": "c08a35f0-aa21-4d85-af8d-87963dfa7583",
   "metadata": {},
   "outputs": [],
   "source": [
    "def update_params(BL=None):\n",
    "    if os.path.exists(STRATEGY_JSON):\n",
    "        os.remove(STRATEGY_JSON)\n",
    "\n",
    "    if BL is None:\n",
    "        return(f\"Removed {Fore.RED}{STRATEGY_JSON}{Style.RESET_ALL}\")\n",
    "        return\n",
    "\n",
    "    params = {\n",
    "      \"strategy_name\": STRATEGY,\n",
    "      \"params\": {\n",
    "        \"buy\": {\n",
    "          \"breakout_length\": BL\n",
    "        }\n",
    "      }\n",
    "    }\n",
    "\n",
    "    with open(STRATEGY_JSON, 'w') as json_file:\n",
    "        json.dump(params, json_file)\n",
    "\n",
    "    return(f\"Params: {Fore.YELLOW}BL {BL}{Style.RESET_ALL}\")\n",
    "\n",
    "\n",
    "os.chdir(\"/freqtrade\")"
   ]
  },
  {
   "cell_type": "markdown",
   "id": "c4748126-42c9-4daa-8bdb-5a4b2362b6d5",
   "metadata": {
    "jp-MarkdownHeadingCollapsed": true
   },
   "source": [
    "# Mass testing to get the best timeframe"
   ]
  },
  {
   "cell_type": "code",
   "execution_count": 50,
   "id": "3ab19ea2-c13d-4b06-b006-108882069524",
   "metadata": {
    "scrolled": true
   },
   "outputs": [
    {
     "name": "stdout",
     "output_type": "stream",
     "text": [
      "Function took \u001b[31m11.87\u001b[0m seconds to execute.\n",
      "Command for timeframe 8h finished.\n",
      "Backtested 2021-08-08 00:00:00 -> 2022-01-06 00:00:00 | Max open trades : 37\n",
      "========================================================================== STRATEGY SUMMARY =========================================================================\n",
      "|    Strategy |   Entries |   Avg Profit % |   Cum Profit % |   Tot Profit USDT |   Tot Profit % |    Avg Duration |   Win  Draw  Loss  Win% |             Drawdown |\n",
      "|-------------+-----------+----------------+----------------+-------------------+----------------+-----------------+-------------------------+----------------------|\n",
      "| Erumperator |       212 |           1.12 |         237.50 |           216.990 |          21.70 | 4 days, 7:35:00 |    74     0   138  34.9 | 230.719 USDT  21.73% |\n",
      "=====================================================================================================================================================================\n",
      "Function took \u001b[31m12.58\u001b[0m seconds to execute.\n",
      "Command for timeframe 1d finished.\n",
      "Backtested 2021-08-08 00:00:00 -> 2022-01-06 00:00:00 | Max open trades : 37\n",
      "=========================================================================== STRATEGY SUMMARY ==========================================================================\n",
      "|    Strategy |   Entries |   Avg Profit % |   Cum Profit % |   Tot Profit USDT |   Tot Profit % |      Avg Duration |   Win  Draw  Loss  Win% |             Drawdown |\n",
      "|-------------+-----------+----------------+----------------+-------------------+----------------+-------------------+-------------------------+----------------------|\n",
      "| Erumperator |        57 |           9.53 |         543.15 |           511.848 |          51.18 | 14 days, 14:19:00 |    23     0    34  40.4 | 168.013 USDT  16.49% |\n",
      "=======================================================================================================================================================================\n",
      "Function took \u001b[31m12.64\u001b[0m seconds to execute.\n",
      "Command for timeframe 12h finished.\n",
      "Backtested 2021-08-08 00:00:00 -> 2022-01-06 00:00:00 | Max open trades : 37\n",
      "========================================================================== STRATEGY SUMMARY ==========================================================================\n",
      "|    Strategy |   Entries |   Avg Profit % |   Cum Profit % |   Tot Profit USDT |   Tot Profit % |     Avg Duration |   Win  Draw  Loss  Win% |             Drawdown |\n",
      "|-------------+-----------+----------------+----------------+-------------------+----------------+------------------+-------------------------+----------------------|\n",
      "| Erumperator |       156 |           4.46 |         695.07 |           674.248 |          67.42 | 4 days, 19:09:00 |    37     0   119  23.7 | 193.777 USDT  19.43% |\n",
      "======================================================================================================================================================================\n",
      "Function took \u001b[31m27.61\u001b[0m seconds to execute.\n",
      "Command for timeframe 4h finished.\n",
      "Backtested 2021-08-08 00:00:00 -> 2022-01-06 00:00:00 | Max open trades : 37\n",
      "========================================================================== STRATEGY SUMMARY =========================================================================\n",
      "|    Strategy |   Entries |   Avg Profit % |   Cum Profit % |   Tot Profit USDT |   Tot Profit % |    Avg Duration |   Win  Draw  Loss  Win% |             Drawdown |\n",
      "|-------------+-----------+----------------+----------------+-------------------+----------------+-----------------+-------------------------+----------------------|\n",
      "| Erumperator |       534 |           0.84 |         449.16 |           386.796 |          38.68 | 1 day, 23:21:00 |   169     0   365  31.6 | 271.011 USDT  16.35% |\n",
      "=====================================================================================================================================================================\n"
     ]
    }
   ],
   "source": [
    "# FULL: L: breakout E: breakout finished\n",
    "# P: 20\n",
    "\n",
    "TIMERANGE=FULL\n",
    "TIMEFRAMES=[\"1d\", \"12h\", \"8h\", \"4h\"]\n",
    "\n",
    "update_params()\n",
    "bruteforce(TIMEFRAMES)"
   ]
  },
  {
   "cell_type": "code",
   "execution_count": 52,
   "id": "88d4f7ef-9646-4e90-be79-b2938d9c087f",
   "metadata": {
    "scrolled": true
   },
   "outputs": [
    {
     "name": "stdout",
     "output_type": "stream",
     "text": [
      "Function took \u001b[31m17.53\u001b[0m seconds to execute.\n",
      "Command for timeframe 1d finished.\n",
      "Backtested 2021-08-08 00:00:00 -> 2022-01-06 00:00:00 | Max open trades : 37\n",
      "=========================================================================== STRATEGY SUMMARY ==========================================================================\n",
      "|    Strategy |   Entries |   Avg Profit % |   Cum Profit % |   Tot Profit USDT |   Tot Profit % |      Avg Duration |   Win  Draw  Loss  Win% |             Drawdown |\n",
      "|-------------+-----------+----------------+----------------+-------------------+----------------+-------------------+-------------------------+----------------------|\n",
      "| Erumperator |        37 |           7.68 |         284.12 |           261.137 |          26.11 | 22 days, 12:58:00 |    18     0    19  48.6 | 192.856 USDT  19.89% |\n",
      "=======================================================================================================================================================================\n",
      "Function took \u001b[31m19.38\u001b[0m seconds to execute.\n",
      "Command for timeframe 12h finished.\n",
      "Backtested 2021-08-08 00:00:00 -> 2022-01-06 00:00:00 | Max open trades : 37\n",
      "========================================================================== STRATEGY SUMMARY ==========================================================================\n",
      "|    Strategy |   Entries |   Avg Profit % |   Cum Profit % |   Tot Profit USDT |   Tot Profit % |     Avg Duration |   Win  Draw  Loss  Win% |             Drawdown |\n",
      "|-------------+-----------+----------------+----------------+-------------------+----------------+------------------+-------------------------+----------------------|\n",
      "| Erumperator |        99 |           2.32 |         229.50 |           200.983 |          20.10 | 7 days, 22:04:00 |    21     0    78  21.2 | 250.312 USDT  24.93% |\n",
      "======================================================================================================================================================================\n",
      "Function took \u001b[31m23.85\u001b[0m seconds to execute.\n",
      "Command for timeframe 8h finished.\n",
      "Backtested 2021-08-08 00:00:00 -> 2022-01-06 00:00:00 | Max open trades : 37\n",
      "========================================================================== STRATEGY SUMMARY ==========================================================================\n",
      "|    Strategy |   Entries |   Avg Profit % |   Cum Profit % |   Tot Profit USDT |   Tot Profit % |     Avg Duration |   Win  Draw  Loss  Win% |             Drawdown |\n",
      "|-------------+-----------+----------------+----------------+-------------------+----------------+------------------+-------------------------+----------------------|\n",
      "| Erumperator |       148 |           5.49 |         812.74 |           779.373 |          77.94 | 7 days, 12:16:00 |    38     0   110  25.7 | 261.409 USDT  15.27% |\n",
      "======================================================================================================================================================================\n",
      "Function took \u001b[31m29.45\u001b[0m seconds to execute.\n",
      "Command for timeframe 4h finished.\n",
      "Backtested 2021-08-08 00:00:00 -> 2022-01-06 00:00:00 | Max open trades : 37\n",
      "========================================================================== STRATEGY SUMMARY ==========================================================================\n",
      "|    Strategy |   Entries |   Avg Profit % |   Cum Profit % |   Tot Profit USDT |   Tot Profit % |     Avg Duration |   Win  Draw  Loss  Win% |             Drawdown |\n",
      "|-------------+-----------+----------------+----------------+-------------------+----------------+------------------+-------------------------+----------------------|\n",
      "| Erumperator |       317 |           1.07 |         340.56 |           296.764 |          29.68 | 3 days, 10:06:00 |    81     0   236  25.6 | 274.938 USDT  17.49% |\n",
      "======================================================================================================================================================================\n"
     ]
    }
   ],
   "source": [
    "# FULL: L: breakout E: support breakout\n",
    "# P: 20\n",
    "\n",
    "TIMERANGE=FULL\n",
    "TIMEFRAMES=[\"1d\", \"12h\", \"8h\", \"4h\"]\n",
    "\n",
    "update_params()\n",
    "bruteforce(TIMEFRAMES)"
   ]
  },
  {
   "cell_type": "markdown",
   "id": "4e295e0e-ae91-47eb-9d92-87ff6dd63f29",
   "metadata": {
    "jp-MarkdownHeadingCollapsed": true
   },
   "source": [
    "# Initial backtests without protections"
   ]
  },
  {
   "cell_type": "markdown",
   "id": "785ef542-b8d3-41db-9a1b-8e76b70d0261",
   "metadata": {
    "jp-MarkdownHeadingCollapsed": true
   },
   "source": [
    "## 1d"
   ]
  },
  {
   "cell_type": "code",
   "execution_count": 51,
   "id": "127f821e-2830-4a1c-963b-4e2ef8a3ddc9",
   "metadata": {
    "scrolled": true
   },
   "outputs": [
    {
     "name": "stdout",
     "output_type": "stream",
     "text": [
      "Testing: \u001b[34mErumperator\u001b[0m on \u001b[34m1d@FULL without filters and protections\u001b[0m\n",
      "Params: \u001b[33mBL 20 LATR 44 LMULT 1.7\u001b[0m\n",
      "Strategy: \u001b[32mbuy on resistance_breakout\u001b[0m and \u001b[31msell on breakout end\u001b[0m\n",
      "Function took \u001b[31m23.60\u001b[0m seconds to execute.\n",
      "Backtested 2021-08-08 00:00:00 -> 2022-01-06 00:00:00 | Max open trades : 37\n",
      "=========================================================================== STRATEGY SUMMARY ==========================================================================\n",
      "|    Strategy |   Entries |   Avg Profit % |   Cum Profit % |   Tot Profit USDT |   Tot Profit % |      Avg Duration |   Win  Draw  Loss  Win% |             Drawdown |\n",
      "|-------------+-----------+----------------+----------------+-------------------+----------------+-------------------+-------------------------+----------------------|\n",
      "| Erumperator |        57 |           9.53 |         543.15 |           511.848 |          51.18 | 14 days, 14:19:00 |    23     0    34  40.4 | 168.013 USDT  16.49% |\n",
      "=======================================================================================================================================================================\n"
     ]
    }
   ],
   "source": [
    "TIMEFRAME=\"1d\"\n",
    "TIMERANGE=FULL\n",
    "\n",
    "print(f\"Testing: {Fore.BLUE}{STRATEGY}{Style.RESET_ALL} on {Fore.BLUE}{TIMEFRAME}@FULL without filters and protections{Style.RESET_ALL}\")\n",
    "print(update_params(20))\n",
    "print(f\"Strategy: {Fore.GREEN}buy on resistance_breakout{Style.RESET_ALL} and {Fore.RED}sell on breakout end{Style.RESET_ALL}\")\n",
    "\n",
    "cmd=f\"freqtrade backtesting --dmmp --strategy {STRATEGY} --config {MAINCONF} --timeframe {TIMEFRAME} \"\\\n",
    "    f\"--timerange {TIMERANGE} --breakdown month\"\n",
    "\n",
    "output = run(cmd)\n",
    "print(extract_summary(output))\n",
    "# print(extract_monthly(output))"
   ]
  },
  {
   "cell_type": "code",
   "execution_count": 56,
   "id": "74a068bc-2bcc-449c-b0c8-252817a45c28",
   "metadata": {},
   "outputs": [
    {
     "name": "stdout",
     "output_type": "stream",
     "text": [
      "Testing: \u001b[34mErumperator\u001b[0m on \u001b[34m1d@R21TD without filters and protections\u001b[0m\n",
      "Params: \u001b[33mBL 20 LATR 44 LMULT 1.7\u001b[0m\n",
      "Strategy: \u001b[32mbuy on resistance_breakout\u001b[0m and \u001b[31msell on breakout end\u001b[0m\n",
      "Function took \u001b[31m26.92\u001b[0m seconds to execute.\n",
      "Backtested 2021-02-14 00:00:00 -> 2023-07-27 00:00:00 | Max open trades : 48\n",
      "=========================================================================== STRATEGY SUMMARY ==========================================================================\n",
      "|    Strategy |   Entries |   Avg Profit % |   Cum Profit % |   Tot Profit USDT |   Tot Profit % |      Avg Duration |   Win  Draw  Loss  Win% |             Drawdown |\n",
      "|-------------+-----------+----------------+----------------+-------------------+----------------+-------------------+-------------------------+----------------------|\n",
      "| Erumperator |       529 |           2.00 |        1058.28 |          1021.823 |         102.18 | 10 days, 15:20:00 |   138     0   391  26.1 | 949.727 USDT  45.16% |\n",
      "=======================================================================================================================================================================\n"
     ]
    }
   ],
   "source": [
    "TIMEFRAME=\"1d\"\n",
    "TIMERANGE=R21TD\n",
    "\n",
    "print(f\"Testing: {Fore.BLUE}{STRATEGY}{Style.RESET_ALL} on {Fore.BLUE}{TIMEFRAME}@R21TD without filters and protections{Style.RESET_ALL}\")\n",
    "print(update_params(20))\n",
    "print(f\"Strategy: {Fore.GREEN}buy on resistance_breakout{Style.RESET_ALL} and {Fore.RED}sell on breakout end{Style.RESET_ALL}\")\n",
    "\n",
    "cmd=f\"freqtrade backtesting --dmmp --strategy {STRATEGY} --config {MAINCONF} --timeframe {TIMEFRAME} \"\\\n",
    "    f\"--timerange {TIMERANGE} --breakdown month\"\n",
    "\n",
    "output = run(cmd)\n",
    "print(extract_summary(output))\n",
    "# print(extract_monthly(output))"
   ]
  },
  {
   "cell_type": "code",
   "execution_count": 55,
   "id": "ac22dd00-909d-439a-a302-6119e59492f8",
   "metadata": {},
   "outputs": [
    {
     "name": "stdout",
     "output_type": "stream",
     "text": [
      "Testing: \u001b[34mErumperator\u001b[0m on \u001b[34m1d@YTD without filters and protections\u001b[0m\n",
      "Params: \u001b[33mBL 20 LATR 44 LMULT 1.7\u001b[0m\n",
      "Strategy: \u001b[32mbuy on resistance_breakout\u001b[0m and \u001b[31msell on breakout end\u001b[0m\n",
      "Function took \u001b[31m17.78\u001b[0m seconds to execute.\n",
      "Backtested 2023-01-01 00:00:00 -> 2023-07-27 00:00:00 | Max open trades : 48\n",
      "=========================================================================== STRATEGY SUMMARY ==========================================================================\n",
      "|    Strategy |   Entries |   Avg Profit % |   Cum Profit % |   Tot Profit USDT |   Tot Profit % |      Avg Duration |   Win  Draw  Loss  Win% |             Drawdown |\n",
      "|-------------+-----------+----------------+----------------+-------------------+----------------+-------------------+-------------------------+----------------------|\n",
      "| Erumperator |       129 |           5.37 |         692.75 |           681.243 |          68.12 | 12 days, 15:38:00 |    45     0    84  34.9 | 208.199 USDT  13.79% |\n",
      "=======================================================================================================================================================================\n"
     ]
    }
   ],
   "source": [
    "TIMEFRAME=\"1d\"\n",
    "TIMERANGE=YTD\n",
    "\n",
    "print(f\"Testing: {Fore.BLUE}{STRATEGY}{Style.RESET_ALL} on {Fore.BLUE}{TIMEFRAME}@YTD without filters and protections{Style.RESET_ALL}\")\n",
    "print(update_params(20))\n",
    "print(f\"Strategy: {Fore.GREEN}buy on resistance_breakout{Style.RESET_ALL} and {Fore.RED}sell on breakout end{Style.RESET_ALL}\")\n",
    "\n",
    "cmd=f\"freqtrade backtesting --dmmp --strategy {STRATEGY} --config {MAINCONF} --timeframe {TIMEFRAME} \"\\\n",
    "    f\"--timerange {TIMERANGE} --breakdown month\"\n",
    "\n",
    "output = run(cmd)\n",
    "print(extract_summary(output))\n",
    "# print(extract_monthly(output))"
   ]
  },
  {
   "cell_type": "markdown",
   "id": "4bb424e6-9cb7-43e3-93cc-9950092bc40f",
   "metadata": {
    "jp-MarkdownHeadingCollapsed": true
   },
   "source": [
    "## 12h"
   ]
  },
  {
   "cell_type": "code",
   "execution_count": 58,
   "id": "1fb180fd-26b5-4783-a4e0-5b1293a3ccd3",
   "metadata": {},
   "outputs": [
    {
     "name": "stdout",
     "output_type": "stream",
     "text": [
      "Testing: \u001b[34mErumperator\u001b[0m on \u001b[34m12h@FULL without filters and protections\u001b[0m\n",
      "Params: \u001b[33mBL 20 LATR 44 LMULT 1.7\u001b[0m\n",
      "Strategy: \u001b[32mbuy on resistance_breakout\u001b[0m and \u001b[31msell on breakout end\u001b[0m\n",
      "Function took \u001b[31m15.55\u001b[0m seconds to execute.\n",
      "Backtested 2021-08-08 00:00:00 -> 2022-01-06 00:00:00 | Max open trades : 37\n",
      "========================================================================== STRATEGY SUMMARY ==========================================================================\n",
      "|    Strategy |   Entries |   Avg Profit % |   Cum Profit % |   Tot Profit USDT |   Tot Profit % |     Avg Duration |   Win  Draw  Loss  Win% |             Drawdown |\n",
      "|-------------+-----------+----------------+----------------+-------------------+----------------+------------------+-------------------------+----------------------|\n",
      "| Erumperator |       156 |           4.46 |         695.07 |           674.248 |          67.42 | 4 days, 19:09:00 |    37     0   119  23.7 | 193.777 USDT  19.43% |\n",
      "======================================================================================================================================================================\n"
     ]
    }
   ],
   "source": [
    "TIMEFRAME=\"12h\"\n",
    "TIMERANGE=FULL\n",
    "\n",
    "print(f\"Testing: {Fore.BLUE}{STRATEGY}{Style.RESET_ALL} on {Fore.BLUE}{TIMEFRAME}@FULL without filters and protections{Style.RESET_ALL}\")\n",
    "print(update_params(20))\n",
    "print(f\"Strategy: {Fore.GREEN}buy on resistance_breakout{Style.RESET_ALL} and {Fore.RED}sell on breakout end{Style.RESET_ALL}\")\n",
    "\n",
    "cmd=f\"freqtrade backtesting --dmmp --strategy {STRATEGY} --config {MAINCONF} --timeframe {TIMEFRAME} \"\\\n",
    "    f\"--timerange {TIMERANGE} --breakdown month\"\n",
    "\n",
    "output = run(cmd)\n",
    "print(extract_summary(output))\n",
    "# print(extract_monthly(output))"
   ]
  },
  {
   "cell_type": "code",
   "execution_count": 60,
   "id": "a998bd01-493b-4245-a337-3d4509344d52",
   "metadata": {},
   "outputs": [
    {
     "name": "stdout",
     "output_type": "stream",
     "text": [
      "Testing: \u001b[34mErumperator\u001b[0m on \u001b[34m12h@R21TD without filters and protections\u001b[0m\n",
      "Params: \u001b[33mBL 20 LATR 44 LMULT 1.7\u001b[0m\n",
      "Strategy: \u001b[32mbuy on resistance_breakout\u001b[0m and \u001b[31msell on breakout end\u001b[0m\n",
      "Function took \u001b[31m58.36\u001b[0m seconds to execute.\n",
      "Backtested 2021-01-23 00:00:00 -> 2023-07-27 12:00:00 | Max open trades : 48\n",
      "=========================================================================== STRATEGY SUMMARY ==========================================================================\n",
      "|    Strategy |   Entries |   Avg Profit % |   Cum Profit % |   Tot Profit USDT |   Tot Profit % |     Avg Duration |   Win  Draw  Loss  Win% |              Drawdown |\n",
      "|-------------+-----------+----------------+----------------+-------------------+----------------+------------------+-------------------------+-----------------------|\n",
      "| Erumperator |      1917 |           2.03 |        3896.78 |          3874.671 |         387.47 | 5 days, 18:20:00 |   580     0  1337  30.3 | 1335.809 USDT  25.74% |\n",
      "=======================================================================================================================================================================\n"
     ]
    }
   ],
   "source": [
    "TIMEFRAME=\"12h\"\n",
    "TIMERANGE=R21TD\n",
    "\n",
    "print(f\"Testing: {Fore.BLUE}{STRATEGY}{Style.RESET_ALL} on {Fore.BLUE}{TIMEFRAME}@R21TD without filters and protections{Style.RESET_ALL}\")\n",
    "print(update_params(20))\n",
    "print(f\"Strategy: {Fore.GREEN}buy on resistance_breakout{Style.RESET_ALL} and {Fore.RED}sell on breakout end{Style.RESET_ALL}\")\n",
    "\n",
    "cmd=f\"freqtrade backtesting --dmmp --strategy {STRATEGY} --config {MAINCONF} --timeframe {TIMEFRAME} \"\\\n",
    "    f\"--timerange {TIMERANGE} --breakdown month\"\n",
    "\n",
    "output = run(cmd)\n",
    "print(extract_summary(output))\n",
    "# print(extract_monthly(output))"
   ]
  },
  {
   "cell_type": "code",
   "execution_count": 45,
   "id": "06d71794-961a-4f62-9ea4-1d003d097811",
   "metadata": {},
   "outputs": [
    {
     "name": "stdout",
     "output_type": "stream",
     "text": [
      "Testing: \u001b[34mErumperator\u001b[0m on \u001b[34m12h@R21TD without filters and protections\u001b[0m\n",
      "Params: \u001b[33mBL 20\u001b[0m\n",
      "Strategy: \u001b[32mbuy on resistance_breakout\u001b[0m and \u001b[31msell on breakout end\u001b[0m\n",
      "Function took \u001b[31m33.91\u001b[0m seconds to execute.\n",
      "Backtested 2023-01-01 00:00:00 -> 2023-07-27 12:00:00 | Max open trades : 48\n",
      "========================================================================== STRATEGY SUMMARY =========================================================================\n",
      "|    Strategy |   Entries |   Avg Profit % |   Cum Profit % |   Tot Profit USDT |   Tot Profit % |    Avg Duration |   Win  Draw  Loss  Win% |             Drawdown |\n",
      "|-------------+-----------+----------------+----------------+-------------------+----------------+-----------------+-------------------------+----------------------|\n",
      "| Erumperator |       240 |           1.62 |         388.27 |           379.108 |          37.91 | 6 days, 7:33:00 |    79     0   161  32.9 | 259.373 USDT  18.01% |\n",
      "=====================================================================================================================================================================\n"
     ]
    }
   ],
   "source": [
    "TIMEFRAME=\"12h\"\n",
    "TIMERANGE=YTD\n",
    "\n",
    "print(f\"Testing: {Fore.BLUE}{STRATEGY}{Style.RESET_ALL} on {Fore.BLUE}{TIMEFRAME}@R21TD without filters and protections{Style.RESET_ALL}\")\n",
    "print(update_params(20))\n",
    "print(f\"Strategy: {Fore.GREEN}buy on resistance_breakout{Style.RESET_ALL} and {Fore.RED}sell on breakout end{Style.RESET_ALL}\")\n",
    "\n",
    "cmd=f\"freqtrade backtesting --dmmp --strategy {STRATEGY} --config {MAINCONF} --timeframe {TIMEFRAME} \"\\\n",
    "    f\"--timerange {TIMERANGE} --breakdown month\"\n",
    "\n",
    "output = run(cmd)\n",
    "print(extract_summary(output))\n",
    "# print(extract_monthly(output))"
   ]
  },
  {
   "cell_type": "markdown",
   "id": "f6e44c86-a407-4a72-91dd-4305f42ed5ce",
   "metadata": {
    "jp-MarkdownHeadingCollapsed": true
   },
   "source": [
    "## 8h"
   ]
  },
  {
   "cell_type": "code",
   "execution_count": 14,
   "id": "e2bbb8d5-7c1c-497a-a836-0ff4f2786387",
   "metadata": {},
   "outputs": [
    {
     "name": "stdout",
     "output_type": "stream",
     "text": [
      "Testing: \u001b[34mErumperator\u001b[0m on \u001b[34m1h1h@ALL_FULL without filters\u001b[0m\n",
      "Params: \u001b[33mBL 20 LATR 44 LMULT 1.7\u001b[0m\n",
      "Strategy: \u001b[32mbuy on resistance_breakout + upward spike\u001b[0m and \u001b[31msell on breakout end\u001b[0m\n",
      "Function took \u001b[31m25.69\u001b[0m seconds to execute.\n",
      "Backtested 2021-08-08 00:00:00 -> 2022-01-06 00:00:00 | Max open trades : 31\n",
      "========================================================================= STRATEGY SUMMARY ========================================================================\n",
      "|    Strategy |   Entries |   Avg Profit % |   Cum Profit % |   Tot Profit USDT |   Tot Profit % |   Avg Duration |   Win  Draw  Loss  Win% |            Drawdown |\n",
      "|-------------+-----------+----------------+----------------+-------------------+----------------+----------------+-------------------------+---------------------|\n",
      "| Erumperator |       173 |          -0.66 |        -114.51 |          -134.933 |         -13.49 |       22:03:00 |    38     0   135  22.0 | 231.35 USDT  21.40% |\n",
      "===================================================================================================================================================================\n"
     ]
    }
   ],
   "source": [
    "TIMEFRAME=\"8h\"\n",
    "TIMERANGE=FULL\n",
    "\n",
    "print(f\"Testing: {Fore.BLUE}{STRATEGY}{Style.RESET_ALL} on {Fore.BLUE}{TIMEFRAME}@FULL without filters and protections{Style.RESET_ALL}\")\n",
    "print(update_params(20))\n",
    "print(f\"Strategy: {Fore.GREEN}buy on resistance_breakout{Style.RESET_ALL} and {Fore.RED}sell on support_breakout{Style.RESET_ALL}\")\n",
    "\n",
    "cmd=f\"freqtrade backtesting --dmmp --strategy {STRATEGY} --config {MAINCONF} --timeframe {TIMEFRAME} \"\\\n",
    "    f\"--timerange {TIMERANGE} --breakdown month\"\n",
    "\n",
    "output = run(cmd)\n",
    "print(extract_summary(output))\n",
    "# print(extract_monthly(output))"
   ]
  },
  {
   "cell_type": "code",
   "execution_count": 62,
   "id": "d9258c38-2bb4-48b4-9c2d-b3af4f448d5b",
   "metadata": {
    "scrolled": true
   },
   "outputs": [
    {
     "name": "stdout",
     "output_type": "stream",
     "text": [
      "Testing: \u001b[34mErumperator\u001b[0m on \u001b[34m8h@R21TD without filters and protections\u001b[0m\n",
      "Params: \u001b[33mBL 20 LATR 44 LMULT 1.7\u001b[0m\n",
      "Strategy: \u001b[32mbuy on resistance_breakout\u001b[0m and \u001b[31msell on support_breakout\u001b[0m\n",
      "Function took \u001b[31m1.41\u001b[0m minutes to execute.\n",
      "Backtested 2021-01-15 16:00:00 -> 2023-07-27 16:00:00 | Max open trades : 48\n",
      "=========================================================================== STRATEGY SUMMARY ==========================================================================\n",
      "|    Strategy |   Entries |   Avg Profit % |   Cum Profit % |   Tot Profit USDT |   Tot Profit % |     Avg Duration |   Win  Draw  Loss  Win% |              Drawdown |\n",
      "|-------------+-----------+----------------+----------------+-------------------+----------------+------------------+-------------------------+-----------------------|\n",
      "| Erumperator |      1665 |           2.63 |        4379.20 |          4314.885 |         431.49 | 7 days, 23:40:00 |   440     0  1225  26.4 | 1155.345 USDT  25.70% |\n",
      "=======================================================================================================================================================================\n"
     ]
    }
   ],
   "source": [
    "TIMEFRAME=\"8h\"\n",
    "TIMERANGE=R21TD\n",
    "\n",
    "print(f\"Testing: {Fore.BLUE}{STRATEGY}{Style.RESET_ALL} on {Fore.BLUE}{TIMEFRAME}@R21TD without filters and protections{Style.RESET_ALL}\")\n",
    "print(update_params(20))\n",
    "print(f\"Strategy: {Fore.GREEN}buy on resistance_breakout{Style.RESET_ALL} and {Fore.RED}sell on support_breakout{Style.RESET_ALL}\")\n",
    "\n",
    "cmd=f\"freqtrade backtesting --dmmp --strategy {STRATEGY} --config {MAINCONF} --timeframe {TIMEFRAME} \"\\\n",
    "    f\"--timerange {TIMERANGE} --breakdown month\"\n",
    "\n",
    "output = run(cmd)\n",
    "print(extract_summary(output))\n",
    "# print(extract_monthly(output))"
   ]
  },
  {
   "cell_type": "code",
   "execution_count": 61,
   "id": "afd981c3-ee3c-4cfc-a971-263de8ed855d",
   "metadata": {},
   "outputs": [
    {
     "name": "stdout",
     "output_type": "stream",
     "text": [
      "Testing: \u001b[34mErumperator\u001b[0m on \u001b[34m8h@YTD without filters and protections\u001b[0m\n",
      "Params: \u001b[33mBL 20 LATR 44 LMULT 1.7\u001b[0m\n",
      "Strategy: \u001b[32mbuy on resistance_breakout\u001b[0m and \u001b[31msell on support_breakout\u001b[0m\n",
      "Function took \u001b[31m23.63\u001b[0m seconds to execute.\n",
      "Backtested 2023-01-01 00:00:00 -> 2023-07-27 16:00:00 | Max open trades : 48\n",
      "========================================================================== STRATEGY SUMMARY ==========================================================================\n",
      "|    Strategy |   Entries |   Avg Profit % |   Cum Profit % |   Tot Profit USDT |   Tot Profit % |     Avg Duration |   Win  Draw  Loss  Win% |             Drawdown |\n",
      "|-------------+-----------+----------------+----------------+-------------------+----------------+------------------+-------------------------+----------------------|\n",
      "| Erumperator |       223 |           1.75 |         390.00 |           383.699 |          38.37 | 7 days, 13:38:00 |    55     0   168  24.7 | 354.363 USDT  23.63% |\n",
      "======================================================================================================================================================================\n"
     ]
    }
   ],
   "source": [
    "TIMEFRAME=\"8h\"\n",
    "TIMERANGE=YTD\n",
    "\n",
    "print(f\"Testing: {Fore.BLUE}{STRATEGY}{Style.RESET_ALL} on {Fore.BLUE}{TIMEFRAME}@YTD without filters and protections{Style.RESET_ALL}\")\n",
    "print(update_params(20))\n",
    "print(f\"Strategy: {Fore.GREEN}buy on resistance_breakout{Style.RESET_ALL} and {Fore.RED}sell on support_breakout{Style.RESET_ALL}\")\n",
    "\n",
    "cmd=f\"freqtrade backtesting --dmmp --strategy {STRATEGY} --config {MAINCONF} --timeframe {TIMEFRAME} \"\\\n",
    "    f\"--timerange {TIMERANGE} --breakdown month\"\n",
    "\n",
    "output = run(cmd)\n",
    "print(extract_summary(output))\n",
    "# print(extract_monthly(output))"
   ]
  },
  {
   "cell_type": "markdown",
   "id": "4bdd42b6-6cc6-4d79-bd1c-a88fb235a17c",
   "metadata": {
    "jp-MarkdownHeadingCollapsed": true
   },
   "source": [
    "# Hyperopt"
   ]
  },
  {
   "cell_type": "code",
   "execution_count": null,
   "id": "46aa03c5-cd95-4bba-9231-fbef6c7e4b40",
   "metadata": {
    "scrolled": true
   },
   "outputs": [
    {
     "name": "stdout",
     "output_type": "stream",
     "text": [
      "Optimizing \u001b[34mErumperator\u001b[0m on \u001b[34m20210808-20220106\u001b[0m@FULL without filters or protections\u001b[0m\n",
      "Strategy: \u001b[32mbuy on resistance_breakout\u001b[0m and \u001b[31msell on breakout end\u001b[0m\n",
      "freqtrade hyperopt --dmmp -j -2 -e 500 --disable-param-export --hyperopt-loss ProfitSquareSortinoSpringEfficiencyHyperOptLoss --strategy Erumperator --config user_data/config/config-backtesting.json --spaces buy --timeframe 1d --timerange 20210808-20220106\n"
     ]
    }
   ],
   "source": [
    "TIMEFRAME=\"1d\"\n",
    "TIMERANGE=FULL\n",
    "SPACES=\"buy\"\n",
    "HYPEROPT_LOSS=\"ProfitSquareSortinoSpringEfficiencyHyperOptLoss\"\n",
    "\n",
    "print(f\"Optimizing {Fore.BLUE}{STRATEGY}{Style.RESET_ALL} on {Fore.BLUE}{TIMERANGE}{Style.RESET_ALL}@FULL without filters or protections{Style.RESET_ALL}\")\n",
    "print(f\"Strategy: {Fore.GREEN}buy on resistance_breakout{Style.RESET_ALL} and {Fore.RED}sell on breakout end{Style.RESET_ALL}\")\n",
    "\n",
    "cmd=f\"freqtrade hyperopt --dmmp -j -2 -e 200 --disable-param-export --hyperopt-loss {HYPEROPT_LOSS} \"\\\n",
    "    f\"--strategy {STRATEGY} --config {MAINCONF} --spaces {SPACES} --timeframe {TIMEFRAME} --timerange {TIMERANGE}\"\n",
    "\n",
    "print(cmd)\n",
    "output = run(cmd)\n",
    "print(extract_best_result(output))"
   ]
  },
  {
   "cell_type": "raw",
   "id": "269ac28b-0f90-4cb4-b245-f2388b43907f",
   "metadata": {},
   "source": [
    "ProfitSquareSortinoSpringEfficiencyHyperOptLoss\n",
    "Best result:\n",
    "\n",
    "    83/200:     94 trades. 36/0/58 Wins/Draws/Losses. Avg profit   6.33%. Median profit  -3.52%. Total profit 570.60689530 USDT (  57.06%). Avg duration 9 days, 20:56:00 min. Objective: -570.60690\n",
    "\n",
    "\n",
    "    # Buy hyperspace params:\n",
    "    buy_params = {\n",
    "        \"breakout_length\": 17,\n",
    "    }\n",
    "\n",
    "    # ROI table:  # value loaded from strategy\n",
    "    minimal_roi = {\n",
    "        \"0\": 100\n",
    "    }\n",
    "\n",
    "    # Stoploss:\n",
    "    stoploss = -1.0  # value loaded from strategy\n",
    "\n",
    "    # Trailing stop:\n",
    "    trailing_stop = False  # value loaded from strategy\n",
    "    trailing_stop_positive = None  # value loaded from strategy\n",
    "    trailing_stop_positive_offset = 0.0  # value loaded from strategy\n",
    "    trailing_only_offset_is_reached = False  # value loaded from strategy\n",
    "    \n",
    "\n",
    "    # Max Open Trades:\n",
    "    max_open_trades = inf  # value loaded from strategy"
   ]
  },
  {
   "cell_type": "raw",
   "id": "f21f9537-e576-4f13-83e4-cd5018ef7e26",
   "metadata": {},
   "source": [
    "SortinoHyperOptLossDaily\n",
    "Best result:\n",
    "\n",
    "    72/200:     12 trades. 5/0/7 Wins/Draws/Losses. Avg profit   6.52%. Median profit  -0.77%. Total profit 78.64026118 USDT (   7.86%). Avg duration 17 days, 0:00:00 min. Objective: -228.70956\n",
    "\n",
    "\n",
    "    # Buy hyperspace params:\n",
    "    buy_params = {\n",
    "        \"breakout_length\": 85,\n",
    "    }\n",
    "\n",
    "    # ROI table:  # value loaded from strategy\n",
    "    minimal_roi = {\n",
    "        \"0\": 100\n",
    "    }\n",
    "\n",
    "    # Stoploss:\n",
    "    stoploss = -1.0  # value loaded from strategy\n",
    "\n",
    "    # Trailing stop:\n",
    "    trailing_stop = False  # value loaded from strategy\n",
    "    trailing_stop_positive = None  # value loaded from strategy\n",
    "    trailing_stop_positive_offset = 0.0  # value loaded from strategy\n",
    "    trailing_only_offset_is_reached = False  # value loaded from strategy\n",
    "    \n",
    "\n",
    "    # Max Open Trades:\n",
    "    max_open_trades = inf  # value loaded from strategy"
   ]
  },
  {
   "cell_type": "raw",
   "id": "1537337c-587a-41eb-8eb2-73ea680e9f6d",
   "metadata": {},
   "source": [
    "SortinoHyperOptLoss\n",
    "\n",
    "Best result:\n",
    "\n",
    "    31/200:     94 trades. 36/0/58 Wins/Draws/Losses. Avg profit   6.33%. Median profit  -3.52%. Total profit 570.60689530 USDT (  57.06%). Avg duration 9 days, 20:56:00 min. Objective: -12.65682\n",
    "\n",
    "\n",
    "    # Buy hyperspace params:\n",
    "    buy_params = {\n",
    "        \"breakout_length\": 17,\n",
    "    }\n",
    "\n",
    "    # ROI table:  # value loaded from strategy\n",
    "    minimal_roi = {\n",
    "        \"0\": 100\n",
    "    }\n",
    "\n",
    "    # Stoploss:\n",
    "    stoploss = -1.0  # value loaded from strategy\n",
    "\n",
    "    # Trailing stop:\n",
    "    trailing_stop = False  # value loaded from strategy\n",
    "    trailing_stop_positive = None  # value loaded from strategy\n",
    "    trailing_stop_positive_offset = 0.0  # value loaded from strategy\n",
    "    trailing_only_offset_is_reached = False  # value loaded from strategy\n",
    "    \n",
    "\n",
    "    # Max Open Trades:\n",
    "    max_open_trades = inf  # value loaded from strategy"
   ]
  },
  {
   "cell_type": "code",
   "execution_count": 5,
   "id": "f91028e2-91c7-4a4c-9025-19880a557aba",
   "metadata": {},
   "outputs": [
    {
     "name": "stdout",
     "output_type": "stream",
     "text": [
      "Optimizing \u001b[34mErumperator\u001b[0m on \u001b[34m20210808-20220106\u001b[0m@FULL without filters or protections\u001b[0m\n",
      "Strategy: \u001b[32mbuy on resistance_breakout\u001b[0m and \u001b[31msell on breakout end\u001b[0m\n",
      "freqtrade hyperopt --dmmp -j -2 -e 500 --disable-param-export --hyperopt-loss ProfitSquareSortinoSpringEfficiencyHyperOptLoss --strategy Erumperator --config user_data/config/config-backtesting.json --spaces buy --timeframe 12h --timerange 20210808-20220106\n"
     ]
    }
   ],
   "source": [
    "TIMEFRAME=\"12h\"\n",
    "TIMERANGE=FULL\n",
    "SPACES=\"buy\"\n",
    "HYPEROPT_LOSS=\"ProfitSquareSortinoSpringEfficiencyHyperOptLoss\"\n",
    "\n",
    "print(f\"Optimizing {Fore.BLUE}{STRATEGY}{Style.RESET_ALL} on {Fore.BLUE}{TIMERANGE}{Style.RESET_ALL}@FULL without filters or protections{Style.RESET_ALL}\")\n",
    "print(f\"Strategy: {Fore.GREEN}buy on resistance_breakout{Style.RESET_ALL} and {Fore.RED}sell on breakout end{Style.RESET_ALL}\")\n",
    "\n",
    "cmd=f\"freqtrade hyperopt --dmmp -j -2 -e 200 --disable-param-export --hyperopt-loss {HYPEROPT_LOSS} \"\\\n",
    "    f\"--strategy {STRATEGY} --config {MAINCONF} --spaces {SPACES} --timeframe {TIMEFRAME} --timerange {TIMERANGE}\"\n",
    "\n",
    "print(cmd)\n",
    "# output = run_live(cmd)\n",
    "# print(extract_best_result(output))"
   ]
  },
  {
   "cell_type": "raw",
   "id": "80b2f452-0d78-4214-8ef3-745f56518957",
   "metadata": {},
   "source": [
    "ProfitSquareSortinoSpringEfficiencyHyperOptLoss\n",
    "Best result:\n",
    "\n",
    "   164/200:    166 trades. 49/0/117 Wins/Draws/Losses. Avg profit   4.56%. Median profit  -2.94%. Total profit 693.76773940 USDT (  69.38%). Avg duration 5 days, 22:29:00 min. Objective: -693.76774\n",
    "\n",
    "\n",
    "    # Buy hyperspace params:\n",
    "    buy_params = {\n",
    "        \"breakout_length\": 23,\n",
    "    }\n",
    "\n",
    "    # ROI table:  # value loaded from strategy\n",
    "    minimal_roi = {\n",
    "        \"0\": 100\n",
    "    }\n",
    "\n",
    "    # Stoploss:\n",
    "    stoploss = -1.0  # value loaded from strategy\n",
    "\n",
    "    # Trailing stop:\n",
    "    trailing_stop = False  # value loaded from strategy\n",
    "    trailing_stop_positive = None  # value loaded from strategy\n",
    "    trailing_stop_positive_offset = 0.0  # value loaded from strategy\n",
    "    trailing_only_offset_is_reached = False  # value loaded from strategy\n",
    "    \n",
    "\n",
    "    # Max Open Trades:\n",
    "    max_open_trades = inf  # value loaded from strategy"
   ]
  },
  {
   "cell_type": "raw",
   "id": "5c3a16fa-57dc-451c-956c-358d7e51b74d",
   "metadata": {},
   "source": [
    "SortinoHyperOptLossDaily\n",
    "Best result:\n",
    "\n",
    "    97/200:     17 trades. 8/0/9 Wins/Draws/Losses. Avg profit   4.82%. Median profit  -0.09%. Total profit 82.39754759 USDT (   8.24%). Avg duration 11 days, 4:14:00 min. Objective: -27.46971\n",
    "\n",
    "\n",
    "    # Buy hyperspace params:\n",
    "    buy_params = {\n",
    "        \"breakout_length\": 149,\n",
    "    }\n",
    "\n",
    "    # ROI table:  # value loaded from strategy\n",
    "    minimal_roi = {\n",
    "        \"0\": 100\n",
    "    }\n",
    "\n",
    "    # Stoploss:\n",
    "    stoploss = -1.0  # value loaded from strategy\n",
    "\n",
    "    # Trailing stop:\n",
    "    trailing_stop = False  # value loaded from strategy\n",
    "    trailing_stop_positive = None  # value loaded from strategy\n",
    "    trailing_stop_positive_offset = 0.0  # value loaded from strategy\n",
    "    trailing_only_offset_is_reached = False  # value loaded from strategy\n",
    "    \n",
    "\n",
    "    # Max Open Trades:\n",
    "    max_open_trades = inf  # value loaded from strategy"
   ]
  },
  {
   "cell_type": "raw",
   "id": "e60094a6-5665-4243-91d0-c3c6abd6ffae",
   "metadata": {},
   "source": [
    "SortinoHyperOptLoss\n",
    "\n",
    "Best result:\n",
    "\n",
    "*   22/200:    166 trades. 49/0/117 Wins/Draws/Losses. Avg profit   4.56%. Median profit  -2.94%. Total profit 693.76773940 USDT (  69.38%). Avg duration 5 days, 22:29:00 min. Objective: -18.00938\n",
    "\n",
    "\n",
    "    # Buy hyperspace params:\n",
    "    buy_params = {\n",
    "        \"breakout_length\": 23,\n",
    "    }\n",
    "\n",
    "    # ROI table:  # value loaded from strategy\n",
    "    minimal_roi = {\n",
    "        \"0\": 100\n",
    "    }\n",
    "\n",
    "    # Stoploss:\n",
    "    stoploss = -1.0  # value loaded from strategy\n",
    "\n",
    "    # Trailing stop:\n",
    "    trailing_stop = False  # value loaded from strategy\n",
    "    trailing_stop_positive = None  # value loaded from strategy\n",
    "    trailing_stop_positive_offset = 0.0  # value loaded from strategy\n",
    "    trailing_only_offset_is_reached = False  # value loaded from strategy\n",
    "    \n",
    "\n",
    "    # Max Open Trades:\n",
    "    max_open_trades = inf  # value loaded from strategy"
   ]
  },
  {
   "cell_type": "code",
   "execution_count": 5,
   "id": "f8ec45d2-ca2a-470d-9471-11f2b2d00cac",
   "metadata": {},
   "outputs": [
    {
     "name": "stdout",
     "output_type": "stream",
     "text": [
      "Optimizing \u001b[34mErumperator\u001b[0m on \u001b[34m20210808-20220106\u001b[0m@FULL without filters or protections\u001b[0m\n",
      "Strategy: \u001b[32mbuy on resistance_breakout\u001b[0m and \u001b[31msell on support breakout start\u001b[0m\n",
      "freqtrade hyperopt --dmmp -j -2 -e 200 --disable-param-export --hyperopt-loss ProfitSquareSortinoSpringEfficiencyHyperOptLoss --strategy Erumperator --config user_data/config/config-backtesting.json --spaces buy --timeframe 8h --timerange 20210808-20220106\n"
     ]
    }
   ],
   "source": [
    "TIMEFRAME=\"8h\"\n",
    "TIMERANGE=FULL\n",
    "SPACES=\"buy\"\n",
    "HYPEROPT_LOSS=\"ProfitSquareSortinoSpringEfficiencyHyperOptLoss\"\n",
    "\n",
    "print(f\"Optimizing {Fore.BLUE}{STRATEGY}{Style.RESET_ALL} on {Fore.BLUE}{TIMERANGE}{Style.RESET_ALL}@FULL without filters or protections{Style.RESET_ALL}\")\n",
    "print(f\"Strategy: {Fore.GREEN}buy on resistance_breakout{Style.RESET_ALL} and {Fore.RED}sell on support breakout start{Style.RESET_ALL}\")\n",
    "\n",
    "cmd=f\"freqtrade hyperopt --dmmp -j -2 -e 200 --disable-param-export --hyperopt-loss {HYPEROPT_LOSS} \"\\\n",
    "    f\"--strategy {STRATEGY} --config {MAINCONF} --spaces {SPACES} --timeframe {TIMEFRAME} --timerange {TIMERANGE}\"\n",
    "\n",
    "print(cmd)\n",
    "# output = run_live(cmd)\n",
    "# print(extract_best_result(output))"
   ]
  },
  {
   "cell_type": "raw",
   "id": "7a898795-758e-4a9e-823b-741ec1281b3e",
   "metadata": {},
   "source": [
    "ProfitSquareSortinoSpringEfficiencyHyperOptLoss\n",
    "Best result:\n",
    "\n",
    "   173/200:    146 trades. 42/0/104 Wins/Draws/Losses. Avg profit   7.68%. Median profit  -3.98%. Total profit 1039.79264258 USDT ( 103.98%). Avg duration 7 days, 23:50:00 min. Objective: -1039.79264\n",
    "\n",
    "\n",
    "    # Buy hyperspace params:\n",
    "    buy_params = {\n",
    "        \"breakout_length\": 27,\n",
    "    }\n",
    "\n",
    "    # ROI table:  # value loaded from strategy\n",
    "    minimal_roi = {\n",
    "        \"0\": 100\n",
    "    }\n",
    "\n",
    "    # Stoploss:\n",
    "    stoploss = -1.0  # value loaded from strategy\n",
    "\n",
    "    # Trailing stop:\n",
    "    trailing_stop = False  # value loaded from strategy\n",
    "    trailing_stop_positive = None  # value loaded from strategy\n",
    "    trailing_stop_positive_offset = 0.0  # value loaded from strategy\n",
    "    trailing_only_offset_is_reached = False  # value loaded from strategy\n",
    "    \n",
    "\n",
    "    # Max Open Trades:\n",
    "    max_open_trades = inf  # value loaded from strategy"
   ]
  },
  {
   "cell_type": "raw",
   "id": "758de3ca-1a83-4a98-8082-be38df04f0ac",
   "metadata": {},
   "source": [
    "SortinoHyperOptLossDaily\n",
    "Best result:\n",
    "\n",
    "   134/200:     35 trades. 15/0/20 Wins/Draws/Losses. Avg profit  15.50%. Median profit  -1.89%. Total profit 541.09551867 USDT (  54.11%). Avg duration 21 days, 7:19:00 min. Objective: -12.66623\n",
    "\n",
    "\n",
    "    # Buy hyperspace params:\n",
    "    buy_params = {\n",
    "        \"breakout_length\": 99,\n",
    "    }\n",
    "\n",
    "    # ROI table:  # value loaded from strategy\n",
    "    minimal_roi = {\n",
    "        \"0\": 100\n",
    "    }\n",
    "\n",
    "    # Stoploss:\n",
    "    stoploss = -1.0  # value loaded from strategy\n",
    "\n",
    "    # Trailing stop:\n",
    "    trailing_stop = False  # value loaded from strategy\n",
    "    trailing_stop_positive = None  # value loaded from strategy\n",
    "    trailing_stop_positive_offset = 0.0  # value loaded from strategy\n",
    "    trailing_only_offset_is_reached = False  # value loaded from strategy\n",
    "    \n",
    "\n",
    "    # Max Open Trades:\n",
    "    max_open_trades = inf  # value loaded from strategy"
   ]
  },
  {
   "cell_type": "raw",
   "id": "4cd4aac2-57a9-48da-ad73-901c473e2065",
   "metadata": {},
   "source": [
    "SortinoHyperOptLoss\n",
    "Best result:\n",
    "\n",
    "   107/200:    146 trades. 42/0/104 Wins/Draws/Losses. Avg profit   7.68%. Median profit  -3.98%. Total profit 1039.79264258 USDT ( 103.98%). Avg duration 7 days, 23:50:00 min. Objective: -24.80125\n",
    "\n",
    "\n",
    "    # Buy hyperspace params:\n",
    "    buy_params = {\n",
    "        \"breakout_length\": 27,\n",
    "    }\n",
    "\n",
    "    # ROI table:  # value loaded from strategy\n",
    "    minimal_roi = {\n",
    "        \"0\": 100\n",
    "    }\n",
    "\n",
    "    # Stoploss:\n",
    "    stoploss = -1.0  # value loaded from strategy\n",
    "\n",
    "    # Trailing stop:\n",
    "    trailing_stop = False  # value loaded from strategy\n",
    "    trailing_stop_positive = None  # value loaded from strategy\n",
    "    trailing_stop_positive_offset = 0.0  # value loaded from strategy\n",
    "    trailing_only_offset_is_reached = False  # value loaded from strategy"
   ]
  },
  {
   "cell_type": "markdown",
   "id": "ae105833-0067-48ca-bb2a-916dcad2e291",
   "metadata": {
    "jp-MarkdownHeadingCollapsed": true
   },
   "source": [
    "# Retest on optimal TF after HYPEROPT"
   ]
  },
  {
   "cell_type": "markdown",
   "id": "14d190ce-ab33-4dc1-b457-c5dddd166627",
   "metadata": {
    "jp-MarkdownHeadingCollapsed": true
   },
   "source": [
    "## 1d"
   ]
  },
  {
   "cell_type": "code",
   "execution_count": 37,
   "id": "c81a63b0-30ed-4afb-85c7-d4ee1f5f7edb",
   "metadata": {},
   "outputs": [
    {
     "name": "stdout",
     "output_type": "stream",
     "text": [
      "Testing hyperopted \u001b[34mErumperator\u001b[0m on \u001b[34m1d@FULL without filters and protections\u001b[0m\n",
      "Params: \u001b[33mBL 17\u001b[0m\n",
      "Strategy: \u001b[32mbuy on resistance_breakout\u001b[0m and \u001b[31msell on breakout end\u001b[0m\n",
      "Function took \u001b[31m14.67\u001b[0m seconds to execute.\n",
      "Backtested 2021-08-08 00:00:00 -> 2022-01-06 00:00:00 | Max open trades : 37\n",
      "========================================================================== STRATEGY SUMMARY ==========================================================================\n",
      "|    Strategy |   Entries |   Avg Profit % |   Cum Profit % |   Tot Profit USDT |   Tot Profit % |     Avg Duration |   Win  Draw  Loss  Win% |             Drawdown |\n",
      "|-------------+-----------+----------------+----------------+-------------------+----------------+------------------+-------------------------+----------------------|\n",
      "| Erumperator |        94 |           6.33 |         595.12 |           570.607 |          57.06 | 9 days, 20:56:00 |    36     0    58  38.3 | 121.321 USDT  11.08% |\n",
      "======================================================================================================================================================================\n"
     ]
    }
   ],
   "source": [
    "TIMEFRAME=\"1d\"\n",
    "TIMERANGE=FULL\n",
    "\n",
    "print(f\"Testing hyperopted {Fore.BLUE}{STRATEGY}{Style.RESET_ALL} on {Fore.BLUE}{TIMEFRAME}@FULL without filters and protections{Style.RESET_ALL}\")\n",
    "print(update_params(17))\n",
    "print(f\"Strategy: {Fore.GREEN}buy on resistance_breakout{Style.RESET_ALL} and {Fore.RED}sell on breakout end{Style.RESET_ALL}\")\n",
    "\n",
    "cmd=f\"freqtrade backtesting --dmmp --strategy {STRATEGY} --config {MAINCONF} --timeframe {TIMEFRAME} \"\\\n",
    "    f\"--timerange {TIMERANGE} --breakdown month\"\n",
    "\n",
    "output = run(cmd)\n",
    "print(extract_summary(output))\n",
    "# print(extract_monthly(output))"
   ]
  },
  {
   "cell_type": "code",
   "execution_count": 39,
   "id": "1d1df8d4-9b6a-4de3-baa2-7718d05c3c02",
   "metadata": {},
   "outputs": [
    {
     "name": "stdout",
     "output_type": "stream",
     "text": [
      "Testing hyperopted \u001b[34mErumperator\u001b[0m on \u001b[34m1d@R21TD without filters and protections\u001b[0m\n",
      "Params: \u001b[33mBL 17\u001b[0m\n",
      "Strategy: \u001b[32mbuy on resistance_breakout\u001b[0m and \u001b[31msell on breakout end\u001b[0m\n",
      "Function took \u001b[31m27.14\u001b[0m seconds to execute.\n",
      "Backtested 2021-02-14 00:00:00 -> 2023-07-27 00:00:00 | Max open trades : 48\n",
      "========================================================================== STRATEGY SUMMARY ==========================================================================\n",
      "|    Strategy |   Entries |   Avg Profit % |   Cum Profit % |   Tot Profit USDT |   Tot Profit % |     Avg Duration |   Win  Draw  Loss  Win% |             Drawdown |\n",
      "|-------------+-----------+----------------+----------------+-------------------+----------------+------------------+-------------------------+----------------------|\n",
      "| Erumperator |       684 |           2.52 |        1723.81 |          1701.763 |         170.18 | 10 days, 6:13:00 |   211     0   473  30.8 | 893.173 USDT  31.19% |\n",
      "======================================================================================================================================================================\n"
     ]
    }
   ],
   "source": [
    "TIMEFRAME=\"1d\"\n",
    "TIMERANGE=R21TD\n",
    "\n",
    "print(f\"Testing hyperopted {Fore.BLUE}{STRATEGY}{Style.RESET_ALL} on {Fore.BLUE}{TIMEFRAME}@R21TD without filters and protections{Style.RESET_ALL}\")\n",
    "print(update_params(17))\n",
    "print(f\"Strategy: {Fore.GREEN}buy on resistance_breakout{Style.RESET_ALL} and {Fore.RED}sell on breakout end{Style.RESET_ALL}\")\n",
    "\n",
    "cmd=f\"freqtrade backtesting --dmmp --strategy {STRATEGY} --config {MAINCONF} --timeframe {TIMEFRAME} \"\\\n",
    "    f\"--timerange {TIMERANGE} --breakdown month\"\n",
    "\n",
    "output = run(cmd)\n",
    "print(extract_summary(output))\n",
    "# print(extract_monthly(output))"
   ]
  },
  {
   "cell_type": "code",
   "execution_count": 40,
   "id": "cb8ea901-06ec-403f-8f04-cdcbaa6c2b88",
   "metadata": {},
   "outputs": [
    {
     "name": "stdout",
     "output_type": "stream",
     "text": [
      "Testing hyperopted \u001b[34mErumperator\u001b[0m on \u001b[34m1d@YTD without filters and protections\u001b[0m\n",
      "Params: \u001b[33mBL 17\u001b[0m\n",
      "Strategy: \u001b[32mbuy on resistance_breakout\u001b[0m and \u001b[31msell on breakout end\u001b[0m\n",
      "Function took \u001b[31m16.70\u001b[0m seconds to execute.\n",
      "Backtested 2023-01-01 00:00:00 -> 2023-07-27 00:00:00 | Max open trades : 48\n",
      "=========================================================================== STRATEGY SUMMARY ==========================================================================\n",
      "|    Strategy |   Entries |   Avg Profit % |   Cum Profit % |   Tot Profit USDT |   Tot Profit % |      Avg Duration |   Win  Draw  Loss  Win% |             Drawdown |\n",
      "|-------------+-----------+----------------+----------------+-------------------+----------------+-------------------+-------------------------+----------------------|\n",
      "| Erumperator |       138 |           2.75 |         380.15 |           372.082 |          37.21 | 10 days, 13:13:00 |    47     0    91  34.1 | 223.477 USDT  17.32% |\n",
      "=======================================================================================================================================================================\n"
     ]
    }
   ],
   "source": [
    "TIMEFRAME=\"1d\"\n",
    "TIMERANGE=YTD\n",
    "\n",
    "print(f\"Testing hyperopted {Fore.BLUE}{STRATEGY}{Style.RESET_ALL} on {Fore.BLUE}{TIMEFRAME}@YTD without filters and protections{Style.RESET_ALL}\")\n",
    "print(update_params(17))\n",
    "print(f\"Strategy: {Fore.GREEN}buy on resistance_breakout{Style.RESET_ALL} and {Fore.RED}sell on breakout end{Style.RESET_ALL}\")\n",
    "\n",
    "cmd=f\"freqtrade backtesting --dmmp --strategy {STRATEGY} --config {MAINCONF} --timeframe {TIMEFRAME} \"\\\n",
    "    f\"--timerange {TIMERANGE} --breakdown month\"\n",
    "\n",
    "output = run(cmd)\n",
    "print(extract_summary(output))\n",
    "# print(extract_monthly(output))"
   ]
  },
  {
   "cell_type": "markdown",
   "id": "82490338-67db-4b77-a782-2ea176528532",
   "metadata": {
    "jp-MarkdownHeadingCollapsed": true
   },
   "source": [
    "## 12h"
   ]
  },
  {
   "cell_type": "code",
   "execution_count": 36,
   "id": "f99ac120-3f8d-427b-b572-bf00527979a1",
   "metadata": {
    "scrolled": true
   },
   "outputs": [
    {
     "name": "stdout",
     "output_type": "stream",
     "text": [
      "Testing hyperopted \u001b[34mErumperator\u001b[0m on \u001b[34m12h@FULL without filters and protections\u001b[0m\n",
      "Params: \u001b[33mBL 23\u001b[0m\n",
      "Strategy: \u001b[32mbuy on resistance_breakout\u001b[0m and \u001b[31msell on breakout end\u001b[0m\n",
      "Function took \u001b[31m17.24\u001b[0m seconds to execute.\n",
      "Backtested 2021-08-08 00:00:00 -> 2022-01-06 00:00:00 | Max open trades : 37\n",
      "========================================================================== STRATEGY SUMMARY =========================================================================\n",
      "|    Strategy |   Entries |   Avg Profit % |   Cum Profit % |   Tot Profit USDT |   Tot Profit % |     Avg Duration |   Win  Draw  Loss  Win% |            Drawdown |\n",
      "|-------------+-----------+----------------+----------------+-------------------+----------------+------------------+-------------------------+---------------------|\n",
      "| Erumperator |       166 |           4.56 |         756.90 |           693.768 |          69.38 | 5 days, 22:29:00 |    49     0   117  29.5 | 145.65 USDT  14.07% |\n",
      "=====================================================================================================================================================================\n"
     ]
    }
   ],
   "source": [
    "TIMEFRAME=\"12h\"\n",
    "TIMERANGE=FULL\n",
    "\n",
    "print(f\"Testing hyperopted {Fore.BLUE}{STRATEGY}{Style.RESET_ALL} on {Fore.BLUE}{TIMEFRAME}@FULL without filters and protections{Style.RESET_ALL}\")\n",
    "print(update_params(23))\n",
    "print(f\"Strategy: {Fore.GREEN}buy on resistance_breakout{Style.RESET_ALL} and {Fore.RED}sell on breakout end{Style.RESET_ALL}\")\n",
    "\n",
    "cmd=f\"freqtrade backtesting --dmmp --strategy {STRATEGY} --config {MAINCONF} --timeframe {TIMEFRAME} \"\\\n",
    "    f\"--timerange {TIMERANGE} --breakdown month\"\n",
    "\n",
    "output = run(cmd)\n",
    "print(extract_summary(output))\n",
    "# print(extract_monthly(output))"
   ]
  },
  {
   "cell_type": "code",
   "execution_count": 41,
   "id": "5e03cc4e-c237-4f48-9214-d4109047538a",
   "metadata": {},
   "outputs": [
    {
     "name": "stdout",
     "output_type": "stream",
     "text": [
      "Testing hyperopted \u001b[34mErumperator\u001b[0m on \u001b[34m12h@R21TD without filters and protections\u001b[0m\n",
      "Params: \u001b[33mBL 23\u001b[0m\n",
      "Strategy: \u001b[32mbuy on resistance_breakout\u001b[0m and \u001b[31msell on breakout end\u001b[0m\n",
      "Function took \u001b[31m50.64\u001b[0m seconds to execute.\n",
      "Backtested 2021-01-23 00:00:00 -> 2023-07-27 12:00:00 | Max open trades : 48\n",
      "========================================================================== STRATEGY SUMMARY ==========================================================================\n",
      "|    Strategy |   Entries |   Avg Profit % |   Cum Profit % |   Tot Profit USDT |   Tot Profit % |    Avg Duration |   Win  Draw  Loss  Win% |              Drawdown |\n",
      "|-------------+-----------+----------------+----------------+-------------------+----------------+-----------------+-------------------------+-----------------------|\n",
      "| Erumperator |      1561 |           1.37 |        2134.86 |          2023.773 |         202.38 | 6 days, 3:43:00 |   431     0  1130  27.6 | 1752.507 USDT  40.89% |\n",
      "======================================================================================================================================================================\n"
     ]
    }
   ],
   "source": [
    "TIMEFRAME=\"12h\"\n",
    "TIMERANGE=R21TD\n",
    "\n",
    "print(f\"Testing hyperopted {Fore.BLUE}{STRATEGY}{Style.RESET_ALL} on {Fore.BLUE}{TIMEFRAME}@R21TD without filters and protections{Style.RESET_ALL}\")\n",
    "print(update_params(23))\n",
    "print(f\"Strategy: {Fore.GREEN}buy on resistance_breakout{Style.RESET_ALL} and {Fore.RED}sell on breakout end{Style.RESET_ALL}\")\n",
    "\n",
    "cmd=f\"freqtrade backtesting --dmmp --strategy {STRATEGY} --config {MAINCONF} --timeframe {TIMEFRAME} \"\\\n",
    "    f\"--timerange {TIMERANGE} --breakdown month\"\n",
    "\n",
    "output = run(cmd)\n",
    "print(extract_summary(output))\n",
    "# print(extract_monthly(output))"
   ]
  },
  {
   "cell_type": "code",
   "execution_count": 42,
   "id": "ee6d90c3-3e31-4392-803a-2895bc48996a",
   "metadata": {},
   "outputs": [
    {
     "name": "stdout",
     "output_type": "stream",
     "text": [
      "Testing hyperopted \u001b[34mErumperator\u001b[0m on \u001b[34m12h@YTD without filters and protections\u001b[0m\n",
      "Params: \u001b[33mBL 23\u001b[0m\n",
      "Strategy: \u001b[32mbuy on resistance_breakout\u001b[0m and \u001b[31msell on breakout end\u001b[0m\n",
      "Function took \u001b[31m19.83\u001b[0m seconds to execute.\n",
      "Backtested 2023-01-01 00:00:00 -> 2023-07-27 12:00:00 | Max open trades : 48\n",
      "========================================================================== STRATEGY SUMMARY =========================================================================\n",
      "|    Strategy |   Entries |   Avg Profit % |   Cum Profit % |   Tot Profit USDT |   Tot Profit % |    Avg Duration |   Win  Draw  Loss  Win% |             Drawdown |\n",
      "|-------------+-----------+----------------+----------------+-------------------+----------------+-----------------+-------------------------+----------------------|\n",
      "| Erumperator |       227 |           1.99 |         451.49 |           441.823 |          44.18 | 6 days, 7:24:00 |    69     0   158  30.4 | 318.299 USDT  23.12% |\n",
      "=====================================================================================================================================================================\n"
     ]
    }
   ],
   "source": [
    "TIMEFRAME=\"12h\"\n",
    "TIMERANGE=YTD\n",
    "\n",
    "print(f\"Testing hyperopted {Fore.BLUE}{STRATEGY}{Style.RESET_ALL} on {Fore.BLUE}{TIMEFRAME}@YTD without filters and protections{Style.RESET_ALL}\")\n",
    "print(update_params(23))\n",
    "print(f\"Strategy: {Fore.GREEN}buy on resistance_breakout{Style.RESET_ALL} and {Fore.RED}sell on breakout end{Style.RESET_ALL}\")\n",
    "\n",
    "cmd=f\"freqtrade backtesting --dmmp --strategy {STRATEGY} --config {MAINCONF} --timeframe {TIMEFRAME} \"\\\n",
    "    f\"--timerange {TIMERANGE} --breakdown month\"\n",
    "\n",
    "output = run(cmd)\n",
    "print(extract_summary(output))\n",
    "# print(extract_monthly(output))"
   ]
  },
  {
   "cell_type": "markdown",
   "id": "53294c20-2975-46a5-b433-2df1e24ebf16",
   "metadata": {
    "jp-MarkdownHeadingCollapsed": true
   },
   "source": [
    "## 8h"
   ]
  },
  {
   "cell_type": "code",
   "execution_count": 35,
   "id": "0705daba-c12d-45b2-a8a8-e780f0dec2b9",
   "metadata": {},
   "outputs": [
    {
     "name": "stdout",
     "output_type": "stream",
     "text": [
      "Testing hyperopted \u001b[34mErumperator\u001b[0m on \u001b[34m8h@FULL without filters and protections\u001b[0m\n",
      "Params: \u001b[33mBL 27\u001b[0m\n",
      "Strategy: \u001b[32mbuy on resistance_breakout\u001b[0m and \u001b[31msell on support breakout\u001b[0m\n",
      "Function took \u001b[31m18.78\u001b[0m seconds to execute.\n",
      "Backtested 2021-08-08 00:00:00 -> 2022-01-06 00:00:00 | Max open trades : 37\n",
      "========================================================================== STRATEGY SUMMARY =========================================================================\n",
      "|    Strategy |   Entries |   Avg Profit % |   Cum Profit % |   Tot Profit USDT |   Tot Profit % |     Avg Duration |   Win  Draw  Loss  Win% |            Drawdown |\n",
      "|-------------+-----------+----------------+----------------+-------------------+----------------+------------------+-------------------------+---------------------|\n",
      "| Erumperator |       146 |           7.68 |        1121.33 |          1039.793 |         103.98 | 7 days, 23:50:00 |    42     0   104  28.8 | 215.31 USDT  11.80% |\n",
      "=====================================================================================================================================================================\n"
     ]
    }
   ],
   "source": [
    "TIMEFRAME=\"8h\"\n",
    "TIMERANGE=FULL\n",
    "\n",
    "print(f\"Testing hyperopted {Fore.BLUE}{STRATEGY}{Style.RESET_ALL} on {Fore.BLUE}{TIMEFRAME}@FULL without filters and protections{Style.RESET_ALL}\")\n",
    "print(update_params(27))\n",
    "print(f\"Strategy: {Fore.GREEN}buy on resistance_breakout{Style.RESET_ALL} and {Fore.RED}sell on support breakout{Style.RESET_ALL}\")\n",
    "\n",
    "cmd=f\"freqtrade backtesting --dmmp --strategy {STRATEGY} --config {MAINCONF} --timeframe {TIMEFRAME} \"\\\n",
    "    f\"--timerange {TIMERANGE} --breakdown month\"\n",
    "\n",
    "output = run(cmd)\n",
    "print(extract_summary(output))\n",
    "# print(extract_monthly(output))"
   ]
  },
  {
   "cell_type": "code",
   "execution_count": 44,
   "id": "b6d0b74b-07b3-40bd-ab1f-458b34607a10",
   "metadata": {},
   "outputs": [
    {
     "name": "stdout",
     "output_type": "stream",
     "text": [
      "Testing hyperopted \u001b[34mErumperator\u001b[0m on \u001b[34m8h@R21TD without filters and protections\u001b[0m\n",
      "Params: \u001b[33mBL 27\u001b[0m\n",
      "Strategy: \u001b[32mbuy on resistance_breakout\u001b[0m and \u001b[31msell on support breakout\u001b[0m\n",
      "Function took \u001b[31m1.30\u001b[0m minutes to execute.\n",
      "Backtested 2021-01-15 16:00:00 -> 2023-07-27 16:00:00 | Max open trades : 48\n",
      "=========================================================================== STRATEGY SUMMARY ==========================================================================\n",
      "|    Strategy |   Entries |   Avg Profit % |   Cum Profit % |   Tot Profit USDT |   Tot Profit % |     Avg Duration |   Win  Draw  Loss  Win% |              Drawdown |\n",
      "|-------------+-----------+----------------+----------------+-------------------+----------------+------------------+-------------------------+-----------------------|\n",
      "| Erumperator |      1468 |           2.63 |        3861.50 |          3846.873 |         384.69 | 8 days, 14:31:00 |   386     0  1082  26.3 | 1840.204 USDT  34.80% |\n",
      "=======================================================================================================================================================================\n"
     ]
    }
   ],
   "source": [
    "TIMEFRAME=\"8h\"\n",
    "TIMERANGE=R21TD\n",
    "\n",
    "print(f\"Testing hyperopted {Fore.BLUE}{STRATEGY}{Style.RESET_ALL} on {Fore.BLUE}{TIMEFRAME}@R21TD without filters and protections{Style.RESET_ALL}\")\n",
    "print(update_params(27))\n",
    "print(f\"Strategy: {Fore.GREEN}buy on resistance_breakout{Style.RESET_ALL} and {Fore.RED}sell on support breakout{Style.RESET_ALL}\")\n",
    "\n",
    "cmd=f\"freqtrade backtesting --dmmp --strategy {STRATEGY} --config {MAINCONF} --timeframe {TIMEFRAME} \"\\\n",
    "    f\"--timerange {TIMERANGE} --breakdown month\"\n",
    "\n",
    "output = run(cmd)\n",
    "print(extract_summary(output))\n",
    "# print(extract_monthly(output))"
   ]
  },
  {
   "cell_type": "code",
   "execution_count": 43,
   "id": "458486dc-ee5a-44b7-a980-1da2a677e870",
   "metadata": {},
   "outputs": [
    {
     "name": "stdout",
     "output_type": "stream",
     "text": [
      "Testing hyperopted \u001b[34mErumperator\u001b[0m on \u001b[34m8h@YTD without filters and protections\u001b[0m\n",
      "Params: \u001b[33mBL 27\u001b[0m\n",
      "Strategy: \u001b[32mbuy on resistance_breakout\u001b[0m and \u001b[31msell on support breakout\u001b[0m\n",
      "Function took \u001b[31m21.75\u001b[0m seconds to execute.\n",
      "Backtested 2023-01-01 00:00:00 -> 2023-07-27 16:00:00 | Max open trades : 48\n",
      "========================================================================== STRATEGY SUMMARY =========================================================================\n",
      "|    Strategy |   Entries |   Avg Profit % |   Cum Profit % |   Tot Profit USDT |   Tot Profit % |     Avg Duration |   Win  Draw  Loss  Win% |            Drawdown |\n",
      "|-------------+-----------+----------------+----------------+-------------------+----------------+------------------+-------------------------+---------------------|\n",
      "| Erumperator |       183 |           2.40 |         439.80 |           428.225 |          42.82 | 8 days, 10:50:00 |    58     0   125  31.7 | 220.94 USDT  16.68% |\n",
      "=====================================================================================================================================================================\n"
     ]
    }
   ],
   "source": [
    "TIMEFRAME=\"8h\"\n",
    "TIMERANGE=YTD\n",
    "\n",
    "print(f\"Testing hyperopted {Fore.BLUE}{STRATEGY}{Style.RESET_ALL} on {Fore.BLUE}{TIMEFRAME}@YTD without filters and protections{Style.RESET_ALL}\")\n",
    "print(update_params(27))\n",
    "print(f\"Strategy: {Fore.GREEN}buy on resistance_breakout{Style.RESET_ALL} and {Fore.RED}sell on support breakout{Style.RESET_ALL}\")\n",
    "\n",
    "cmd=f\"freqtrade backtesting --dmmp --strategy {STRATEGY} --config {MAINCONF} --timeframe {TIMEFRAME} \"\\\n",
    "    f\"--timerange {TIMERANGE} --breakdown month\"\n",
    "\n",
    "output = run(cmd)\n",
    "print(extract_summary(output))\n",
    "# print(extract_monthly(output))"
   ]
  },
  {
   "cell_type": "markdown",
   "id": "aaac5ffd-f35e-482c-8c5b-00084ad71364",
   "metadata": {
    "jp-MarkdownHeadingCollapsed": true
   },
   "source": [
    "# Add checks (particularly age_filter)"
   ]
  },
  {
   "cell_type": "code",
   "execution_count": 52,
   "id": "860d0de0-f03e-4f1f-a592-16532d6071db",
   "metadata": {},
   "outputs": [
    {
     "name": "stdout",
     "output_type": "stream",
     "text": [
      "Testing hyperopted \u001b[34mErumperator\u001b[0m on \u001b[34m1d@R21TD with checks and without protections\u001b[0m\n",
      "Params: \u001b[33mBL 17\u001b[0m\n",
      "Strategy: \u001b[32mbuy on resistance_breakout\u001b[0m and \u001b[31msell on breakout end\u001b[0m\n",
      "Function took \u001b[31m29.74\u001b[0m seconds to execute.\n",
      "Backtested 2021-02-14 00:00:00 -> 2023-07-27 00:00:00 | Max open trades : 48\n",
      "========================================================================== STRATEGY SUMMARY ==========================================================================\n",
      "|    Strategy |   Entries |   Avg Profit % |   Cum Profit % |   Tot Profit USDT |   Tot Profit % |     Avg Duration |   Win  Draw  Loss  Win% |             Drawdown |\n",
      "|-------------+-----------+----------------+----------------+-------------------+----------------+------------------+-------------------------+----------------------|\n",
      "| Erumperator |       684 |           2.52 |        1723.81 |          1701.763 |         170.18 | 10 days, 6:13:00 |   211     0   473  30.8 | 893.173 USDT  31.19% |\n",
      "======================================================================================================================================================================\n"
     ]
    }
   ],
   "source": [
    "TIMEFRAME=\"1d\"\n",
    "TIMERANGE=R21TD\n",
    "\n",
    "print(f\"Testing hyperopted {Fore.BLUE}{STRATEGY}{Style.RESET_ALL} on {Fore.BLUE}{TIMEFRAME}@R21TD with checks and without protections{Style.RESET_ALL}\")\n",
    "print(update_params(17))\n",
    "print(f\"Strategy: {Fore.GREEN}buy on resistance_breakout{Style.RESET_ALL} and {Fore.RED}sell on breakout end{Style.RESET_ALL}\")\n",
    "\n",
    "cmd=f\"freqtrade backtesting --dmmp --strategy {STRATEGY} --config {MAINCONF} --timeframe {TIMEFRAME} \"\\\n",
    "    f\"--timerange {TIMERANGE} --breakdown month\"\n",
    "\n",
    "output = run(cmd)\n",
    "print(extract_summary(output))\n",
    "# print(extract_monthly(output))"
   ]
  },
  {
   "cell_type": "code",
   "execution_count": 51,
   "id": "bd75db89-a525-4953-89e6-6d3f40aabb8e",
   "metadata": {},
   "outputs": [
    {
     "name": "stdout",
     "output_type": "stream",
     "text": [
      "Testing hyperopted \u001b[34mErumperator\u001b[0m on \u001b[34m12h@R21TD with checks and without protections\u001b[0m\n",
      "Params: \u001b[33mBL 23\u001b[0m\n",
      "Strategy: \u001b[32mbuy on resistance_breakout\u001b[0m and \u001b[31msell on breakout end\u001b[0m\n",
      "Function took \u001b[31m51.84\u001b[0m seconds to execute.\n",
      "Backtested 2021-01-23 00:00:00 -> 2023-07-27 12:00:00 | Max open trades : 48\n",
      "========================================================================== STRATEGY SUMMARY ==========================================================================\n",
      "|    Strategy |   Entries |   Avg Profit % |   Cum Profit % |   Tot Profit USDT |   Tot Profit % |    Avg Duration |   Win  Draw  Loss  Win% |              Drawdown |\n",
      "|-------------+-----------+----------------+----------------+-------------------+----------------+-----------------+-------------------------+-----------------------|\n",
      "| Erumperator |      1561 |           1.37 |        2134.86 |          2023.773 |         202.38 | 6 days, 3:43:00 |   431     0  1130  27.6 | 1752.507 USDT  40.89% |\n",
      "======================================================================================================================================================================\n"
     ]
    }
   ],
   "source": [
    "TIMEFRAME=\"12h\"\n",
    "TIMERANGE=R21TD\n",
    "\n",
    "print(f\"Testing hyperopted {Fore.BLUE}{STRATEGY}{Style.RESET_ALL} on {Fore.BLUE}{TIMEFRAME}@R21TD with checks and without protections{Style.RESET_ALL}\")\n",
    "print(update_params(23))\n",
    "print(f\"Strategy: {Fore.GREEN}buy on resistance_breakout{Style.RESET_ALL} and {Fore.RED}sell on breakout end{Style.RESET_ALL}\")\n",
    "\n",
    "cmd=f\"freqtrade backtesting --dmmp --strategy {STRATEGY} --config {MAINCONF} --timeframe {TIMEFRAME} \"\\\n",
    "    f\"--timerange {TIMERANGE} --breakdown month\"\n",
    "\n",
    "output = run(cmd)\n",
    "print(extract_summary(output))\n",
    "# print(extract_monthly(output))"
   ]
  },
  {
   "cell_type": "code",
   "execution_count": 53,
   "id": "40ed6742-9451-467d-8954-9cd13fc1511a",
   "metadata": {},
   "outputs": [
    {
     "name": "stdout",
     "output_type": "stream",
     "text": [
      "Testing hyperopted \u001b[34mErumperator\u001b[0m on \u001b[34m8h@R21TD with checks and without protections\u001b[0m\n",
      "Params: \u001b[33mBL 27\u001b[0m\n",
      "Strategy: \u001b[32mbuy on resistance_breakout\u001b[0m and \u001b[31msell on support breakout\u001b[0m\n",
      "Function took \u001b[31m1.32\u001b[0m minutes to execute.\n",
      "Backtested 2021-01-15 16:00:00 -> 2023-07-27 16:00:00 | Max open trades : 48\n",
      "=========================================================================== STRATEGY SUMMARY ==========================================================================\n",
      "|    Strategy |   Entries |   Avg Profit % |   Cum Profit % |   Tot Profit USDT |   Tot Profit % |     Avg Duration |   Win  Draw  Loss  Win% |              Drawdown |\n",
      "|-------------+-----------+----------------+----------------+-------------------+----------------+------------------+-------------------------+-----------------------|\n",
      "| Erumperator |      1468 |           2.63 |        3861.50 |          3846.873 |         384.69 | 8 days, 14:31:00 |   386     0  1082  26.3 | 1840.204 USDT  34.80% |\n",
      "=======================================================================================================================================================================\n"
     ]
    }
   ],
   "source": [
    "TIMEFRAME=\"8h\"\n",
    "TIMERANGE=R21TD\n",
    "\n",
    "print(f\"Testing hyperopted {Fore.BLUE}{STRATEGY}{Style.RESET_ALL} on {Fore.BLUE}{TIMEFRAME}@R21TD with checks and without protections{Style.RESET_ALL}\")\n",
    "print(update_params(27))\n",
    "print(f\"Strategy: {Fore.GREEN}buy on resistance_breakout{Style.RESET_ALL} and {Fore.RED}sell on support breakout{Style.RESET_ALL}\")\n",
    "\n",
    "cmd=f\"freqtrade backtesting --dmmp --strategy {STRATEGY} --config {MAINCONF} --timeframe {TIMEFRAME} \"\\\n",
    "    f\"--timerange {TIMERANGE} --breakdown month\"\n",
    "\n",
    "output = run(cmd)\n",
    "print(extract_summary(output))\n",
    "# print(extract_monthly(output))"
   ]
  },
  {
   "cell_type": "markdown",
   "id": "f6b3c4c8-c3e3-42fe-bac5-1e96e966de03",
   "metadata": {
    "jp-MarkdownHeadingCollapsed": true
   },
   "source": [
    "# Hyperopt protections"
   ]
  },
  {
   "cell_type": "code",
   "execution_count": null,
   "id": "b4792d2f-9df9-4fa3-bc03-4e42e9de7224",
   "metadata": {},
   "outputs": [],
   "source": [
    "TIMEFRAME=\"1d\"\n",
    "TIMERANGE=FULL\n",
    "SPACES=\"protection\"\n",
    "HYPEROPT_LOSS=\"ProfitSquareSortinoSpringEfficiencyHyperOptLoss\"\n",
    "\n",
    "print(f\"Optimizing {Fore.BLUE}{STRATEGY}{Style.RESET_ALL} on {Fore.BLUE}{TIMERANGE}{Style.RESET_ALL}@FULL without filters or protections{Style.RESET_ALL}\")\n",
    "print(f\"Strategy: {Fore.GREEN}buy on resistance_breakout{Style.RESET_ALL} and {Fore.RED}sell on breakout end{Style.RESET_ALL}\")\n",
    "\n",
    "cmd=f\"freqtrade hyperopt --dmmp -j -2 -e 500 --disable-param-export --hyperopt-loss {HYPEROPT_LOSS} \"\\\n",
    "    f\"--strategy {STRATEGY} --config {MAINCONF} --spaces {SPACES} --timeframe {TIMEFRAME} --timerange {TIMERANGE}\"\n",
    "\n",
    "print(cmd)\n",
    "output = run(cmd)\n",
    "print(extract_best_result(output))"
   ]
  },
  {
   "cell_type": "raw",
   "id": "589d5f5d-cbc3-4d1f-87d2-f486b1cb504e",
   "metadata": {},
   "source": [
    "ProfitSquareSortinoSpringEfficiencyHyperOptLoss\n",
    "   278/500:     55 trades. 20/0/35 Wins/Draws/Losses. Avg profit  12.61%. Median profit  -4.45%. Total profit 666.54547246 USDT (  66.65%). Avg duration 13 days, 6:33:00 min. Objective: -666.54547\n",
    "\n",
    "\n",
    "    # Buy hyperspace params:\n",
    "    buy_params = {\n",
    "        \"breakout_length\": 17,  # value loaded from strategy\n",
    "    }\n",
    "\n",
    "    # Protection hyperspace params:\n",
    "    protection_params = {\n",
    "        \"cooldown_stop_duration_candles\": 2,\n",
    "        \"lowprofit2_lookback_period_candles\": 233,\n",
    "        \"lowprofit2_required_profit\": 0.007,\n",
    "        \"lowprofit2_stop_duration_candles\": 32,\n",
    "        \"lowprofit2_trade_limit\": 23,\n",
    "        \"lowprofit_lookback_period_candles\": 15,\n",
    "        \"lowprofit_required_profit\": 0.008,\n",
    "        \"lowprofit_stop_duration_candles\": 154,\n",
    "        \"lowprofit_trade_limit\": 17,\n",
    "        \"maxdrawdown_lookback_period_candles\": 38,\n",
    "        \"maxdrawdown_max_allowed_drawdown\": 0.08,\n",
    "        \"maxdrawdown_stop_duration_candles\": 13,\n",
    "        \"maxdrawdown_trade_limit\": 19,\n",
    "        \"stoplossguard_lookback_period_candles\": 155,\n",
    "        \"stoplossguard_stop_duration_candles\": 2,\n",
    "        \"stoplossguard_trade_limit\": 14,\n",
    "    }"
   ]
  },
  {
   "cell_type": "raw",
   "id": "cd979fd6-d209-4fc0-9592-901718f70aef",
   "metadata": {},
   "source": [
    "SortinoHyperOptLossDaily 17\n",
    "Best result:\n",
    "\n",
    "   413/500:     46 trades. 15/0/31 Wins/Draws/Losses. Avg profit  13.77%. Median profit  -4.01%. Total profit 604.05494510 USDT (  60.41%). Avg duration 14 days, 7:50:00 min. Objective: -16.66951\n",
    "\n",
    "\n",
    "    # Buy hyperspace params:\n",
    "    buy_params = {\n",
    "        \"breakout_length\": 17,  # value loaded from strategy\n",
    "    }\n",
    "\n",
    "    # Protection hyperspace params:\n",
    "    protection_params = {\n",
    "        \"cooldown_stop_duration_candles\": 4,\n",
    "        \"lowprofit2_lookback_period_candles\": 249,\n",
    "        \"lowprofit2_required_profit\": 0.011,\n",
    "        \"lowprofit2_stop_duration_candles\": 28,\n",
    "        \"lowprofit2_trade_limit\": 41,\n",
    "        \"lowprofit_lookback_period_candles\": 55,\n",
    "        \"lowprofit_required_profit\": 0.033,\n",
    "        \"lowprofit_stop_duration_candles\": 66,\n",
    "        \"lowprofit_trade_limit\": 33,\n",
    "        \"maxdrawdown_lookback_period_candles\": 31,\n",
    "        \"maxdrawdown_max_allowed_drawdown\": 0.3,\n",
    "        \"maxdrawdown_stop_duration_candles\": 24,\n",
    "        \"maxdrawdown_trade_limit\": 19,\n",
    "        \"stoplossguard_lookback_period_candles\": 178,\n",
    "        \"stoplossguard_stop_duration_candles\": 8,\n",
    "        \"stoplossguard_trade_limit\": 5,\n",
    "    }"
   ]
  },
  {
   "cell_type": "raw",
   "id": "154bb9e3-4db4-4ce0-8c93-15a8bfc8be95",
   "metadata": {},
   "source": [
    "SortinoHyperOptLoss\n",
    "Best result:\n",
    "\n",
    "   109/500:     59 trades. 23/0/36 Wins/Draws/Losses. Avg profit  11.58%. Median profit  -4.74%. Total profit 654.55335982 USDT (  65.46%). Avg duration 13 days, 3:15:00 min. Objective: -15.79036\n",
    "\n",
    "\n",
    "    # Buy hyperspace params:\n",
    "    buy_params = {\n",
    "        \"breakout_length\": 17,  # value loaded from strategy\n",
    "    }\n",
    "\n",
    "    # Protection hyperspace params:\n",
    "    protection_params = {\n",
    "        \"cooldown_stop_duration_candles\": 2,\n",
    "        \"lowprofit2_lookback_period_candles\": 96,\n",
    "        \"lowprofit2_required_profit\": 0.0,\n",
    "        \"lowprofit2_stop_duration_candles\": 39,\n",
    "        \"lowprofit2_trade_limit\": 55,\n",
    "        \"lowprofit_lookback_period_candles\": 46,\n",
    "        \"lowprofit_required_profit\": 0.017,\n",
    "        \"lowprofit_stop_duration_candles\": 26,\n",
    "        \"lowprofit_trade_limit\": 36,\n",
    "        \"maxdrawdown_lookback_period_candles\": 32,\n",
    "        \"maxdrawdown_max_allowed_drawdown\": 0.38,\n",
    "        \"maxdrawdown_stop_duration_candles\": 10,\n",
    "        \"maxdrawdown_trade_limit\": 19,\n",
    "        \"stoplossguard_lookback_period_candles\": 174,\n",
    "        \"stoplossguard_stop_duration_candles\": 5,\n",
    "        \"stoplossguard_trade_limit\": 19,\n",
    "    }"
   ]
  },
  {
   "cell_type": "code",
   "execution_count": null,
   "id": "57ec2568-c5d1-48aa-a72a-0873a8be52ab",
   "metadata": {},
   "outputs": [],
   "source": [
    "TIMEFRAME=\"12h\"\n",
    "TIMERANGE=FULL\n",
    "SPACES=\"protection\"\n",
    "HYPEROPT_LOSS=\"ProfitSquareSortinoSpringEfficiencyHyperOptLoss\"\n",
    "\n",
    "print(f\"Optimizing {Fore.BLUE}{STRATEGY}{Style.RESET_ALL} on {Fore.BLUE}{TIMERANGE}{Style.RESET_ALL}@FULL without filters or protections{Style.RESET_ALL}\")\n",
    "print(f\"Strategy: {Fore.GREEN}buy on resistance_breakout{Style.RESET_ALL} and {Fore.RED}sell on breakout end{Style.RESET_ALL}\")\n",
    "\n",
    "cmd=f\"freqtrade hyperopt --dmmp -j -2 -e 500 --disable-param-export --hyperopt-loss {HYPEROPT_LOSS} \"\\\n",
    "    f\"--strategy {STRATEGY} --config {MAINCONF} --spaces {SPACES} --timeframe {TIMEFRAME} --timerange {TIMERANGE}\"\n",
    "\n",
    "print(cmd)\n",
    "output = run(cmd)\n",
    "print(extract_best_result(output))"
   ]
  },
  {
   "cell_type": "raw",
   "id": "bb6c54fc-0a23-49d7-a33d-d09926811167",
   "metadata": {},
   "source": [
    "# ProfitSquareSortinoSpringEfficiencyHyperOptLoss 23\n",
    "Best result:\n",
    "\n",
    "   421/500:     79 trades. 31/0/48 Wins/Draws/Losses. Avg profit  13.58%. Median profit  -1.61%. Total profit 1006.39383013 USDT ( 100.64%). Avg duration 9 days, 8:21:00 min. Objective: -1006.39383\n",
    "\n",
    "    # Protection hyperspace params:\n",
    "    protection_params = {\n",
    "        \"cooldown_stop_duration_candles\": 0,\n",
    "        \"lowprofit2_lookback_period_candles\": 165,\n",
    "        \"lowprofit2_required_profit\": 0.012,\n",
    "        \"lowprofit2_stop_duration_candles\": 32,\n",
    "        \"lowprofit2_trade_limit\": 3,\n",
    "        \"lowprofit_lookback_period_candles\": 60,\n",
    "        \"lowprofit_required_profit\": 0.004,\n",
    "        \"lowprofit_stop_duration_candles\": 158,\n",
    "        \"lowprofit_trade_limit\": 42,\n",
    "        \"maxdrawdown_lookback_period_candles\": 19,\n",
    "        \"maxdrawdown_max_allowed_drawdown\": 0.28,\n",
    "        \"maxdrawdown_stop_duration_candles\": 34,\n",
    "        \"maxdrawdown_trade_limit\": 6,\n",
    "        \"stoplossguard_lookback_period_candles\": 225,\n",
    "        \"stoplossguard_stop_duration_candles\": 7,\n",
    "        \"stoplossguard_trade_limit\": 14,\n",
    "    }"
   ]
  },
  {
   "cell_type": "raw",
   "id": "a43a799e-42ee-403d-ad83-4a8981f8e812",
   "metadata": {},
   "source": [
    "# SortinoHyperOptLossDaily 23\n",
    "Best result:\n",
    "                 \n",
    "   112/500:     54 trades. 25/0/29 Wins/Draws/Losses. Avg profit  13.09%. Median profit  -0.44%. Total profit 649.00020893 USDT (  64.90%). Avg duration 8 days, 11:07:00 min. Objective: -38.24996                                                        \n",
    "    # Protection hyperspace params:                                                                                                                                                                                                  protection_params = {                                                                                                                                                                                                                \"cooldown_stop_duration_candles\": 0,                                                                                                                                                                                             \"lowprofit2_lookback_period_candles\": 197,                                                                                                                                                                                       \"lowprofit2_required_profit\": 0.02,                                                                                                                                                                                              \"lowprofit2_stop_duration_candles\": 11,\n",
    "        \"lowprofit2_trade_limit\": 38,\n",
    "        \"lowprofit_lookback_period_candles\": 30,\n",
    "        \"lowprofit_required_profit\": 0.033,\n",
    "        \"lowprofit_stop_duration_candles\": 81,\n",
    "        \"lowprofit_trade_limit\": 2,\n",
    "        \"maxdrawdown_lookback_period_candles\": 16,\n",
    "        \"maxdrawdown_max_allowed_drawdown\": 0.08,\n",
    "        \"maxdrawdown_stop_duration_candles\": 33,\n",
    "        \"maxdrawdown_trade_limit\": 4,\n",
    "        \"stoplossguard_lookback_period_candles\": 119,\n",
    "        \"stoplossguard_stop_duration_candles\": 3,\n",
    "        \"stoplossguard_trade_limit\": 18,\n",
    "    }"
   ]
  },
  {
   "cell_type": "raw",
   "id": "86772a81-82b3-482e-a6f9-67c80a9d1c19",
   "metadata": {},
   "source": [
    "# SortinoHyperOptLoss 23\n",
    "Best result:\n",
    "\n",
    "   242/500:     97 trades. 38/0/59 Wins/Draws/Losses. Avg profit  10.08%. Median profit  -1.98%. Total profit 931.98376936 USDT (  93.20%). Avg duration 8 days, 16:12:00 min. Objective: -24.25392\n",
    "\n",
    "\n",
    "    # Buy hyperspace params:\n",
    "    buy_params = {\n",
    "        \"breakout_length\": 23,  # value loaded from strategy\n",
    "    }\n",
    "\n",
    "    # Protection hyperspace params:\n",
    "    protection_params = {\n",
    "        \"cooldown_stop_duration_candles\": 9,\n",
    "        \"lowprofit2_lookback_period_candles\": 87,\n",
    "        \"lowprofit2_required_profit\": 0.006,\n",
    "        \"lowprofit2_stop_duration_candles\": 6,\n",
    "        \"lowprofit2_trade_limit\": 24,\n",
    "        \"lowprofit_lookback_period_candles\": 32,\n",
    "        \"lowprofit_required_profit\": 0.033,\n",
    "        \"lowprofit_stop_duration_candles\": 45,\n",
    "        \"lowprofit_trade_limit\": 33,\n",
    "        \"maxdrawdown_lookback_period_candles\": 32,\n",
    "        \"maxdrawdown_max_allowed_drawdown\": 0.32,\n",
    "        \"maxdrawdown_stop_duration_candles\": 21,\n",
    "        \"maxdrawdown_trade_limit\": 17,\n",
    "        \"stoplossguard_lookback_period_candles\": 277,\n",
    "        \"stoplossguard_stop_duration_candles\": 3,\n",
    "        \"stoplossguard_trade_limit\": 17,\n",
    "    }"
   ]
  },
  {
   "cell_type": "code",
   "execution_count": null,
   "id": "df69e56e-0e03-47e6-97a8-1ee8fff0280a",
   "metadata": {},
   "outputs": [],
   "source": [
    "TIMEFRAME=\"8h\"\n",
    "TIMERANGE=FULL\n",
    "SPACES=\"protection\"\n",
    "HYPEROPT_LOSS=\"ProfitSquareSortinoSpringEfficiencyHyperOptLoss\"\n",
    "\n",
    "print(f\"Optimizing {Fore.BLUE}{STRATEGY}{Style.RESET_ALL} on {Fore.BLUE}{TIMERANGE}{Style.RESET_ALL}@FULL without filters or protections{Style.RESET_ALL}\")\n",
    "print(f\"Strategy: {Fore.GREEN}buy on resistance_breakout{Style.RESET_ALL} and {Fore.RED}sell on breakout end{Style.RESET_ALL}\")\n",
    "\n",
    "cmd=f\"freqtrade hyperopt --dmmp -j -2 -e 500 --disable-param-export --hyperopt-loss {HYPEROPT_LOSS} \"\\\n",
    "    f\"--strategy {STRATEGY} --config {MAINCONF} --spaces {SPACES} --timeframe {TIMEFRAME} --timerange {TIMERANGE}\"\n",
    "\n",
    "print(cmd)\n",
    "output = run(cmd)\n",
    "print(extract_best_result(output))"
   ]
  },
  {
   "cell_type": "raw",
   "id": "f6a8df6e-1280-4ba3-be05-16c6a7bb9c89",
   "metadata": {},
   "source": [
    "# ProfitSquareSortinoSpringEfficiencyHyperOptLoss 27\n",
    "Best result:\n",
    "\n",
    "   252/500:     83 trades. 30/0/53 Wins/Draws/Losses. Avg profit  17.83%. Median profit  -2.68%. Total profit 1407.67671824 USDT ( 140.77%). Avg duration 11 days, 4:26:00 min. Objective: -1407.67672\n",
    "\n",
    "    # Protection hyperspace params:\n",
    "    protection_params = {\n",
    "        \"cooldown_stop_duration_candles\": 2,\n",
    "        \"lowprofit2_lookback_period_candles\": 257,\n",
    "        \"lowprofit2_required_profit\": 0.02,\n",
    "        \"lowprofit2_stop_duration_candles\": 9,\n",
    "        \"lowprofit2_trade_limit\": 68,\n",
    "        \"lowprofit_lookback_period_candles\": 33,\n",
    "        \"lowprofit_required_profit\": 0.018,\n",
    "        \"lowprofit_stop_duration_candles\": 128,\n",
    "        \"lowprofit_trade_limit\": 36,\n",
    "        \"maxdrawdown_lookback_period_candles\": 9,\n",
    "        \"maxdrawdown_max_allowed_drawdown\": 0.05,\n",
    "        \"maxdrawdown_stop_duration_candles\": 57,\n",
    "        \"maxdrawdown_trade_limit\": 8,\n",
    "        \"stoplossguard_lookback_period_candles\": 156,\n",
    "        \"stoplossguard_stop_duration_candles\": 10,\n",
    "        \"stoplossguard_trade_limit\": 1,\n",
    "    }"
   ]
  },
  {
   "cell_type": "raw",
   "id": "b97273e9-a961-4f0c-8465-a2be8d56bb0c",
   "metadata": {},
   "source": [
    "# SortinoHyperOptLossDaily 27\n",
    "Best result:\n",
    "\n",
    "   225/500:     46 trades. 23/0/23 Wins/Draws/Losses. Avg profit  23.18%. Median profit   0.19%. Total profit 1006.26852129 USDT ( 100.63%). Avg duration 14 days, 8:10:00 min. Objective: -52.63355\n",
    "\n",
    "    # Protection hyperspace params:\n",
    "    protection_params = {\n",
    "        \"cooldown_stop_duration_candles\": 14,\n",
    "        \"lowprofit2_lookback_period_candles\": 290,\n",
    "        \"lowprofit2_required_profit\": 0.0,\n",
    "        \"lowprofit2_stop_duration_candles\": 36,\n",
    "        \"lowprofit2_trade_limit\": 22,\n",
    "        \"lowprofit_lookback_period_candles\": 33,\n",
    "        \"lowprofit_required_profit\": 0.033,\n",
    "        \"lowprofit_stop_duration_candles\": 108,\n",
    "        \"lowprofit_trade_limit\": 29,\n",
    "        \"maxdrawdown_lookback_period_candles\": 37,\n",
    "        \"maxdrawdown_max_allowed_drawdown\": 0.05,\n",
    "        \"maxdrawdown_stop_duration_candles\": 52,\n",
    "        \"maxdrawdown_trade_limit\": 1,\n",
    "        \"stoplossguard_lookback_period_candles\": 166,\n",
    "        \"stoplossguard_stop_duration_candles\": 7,\n",
    "        \"stoplossguard_trade_limit\": 8,\n",
    "    }"
   ]
  },
  {
   "cell_type": "raw",
   "id": "c9d63dce-30e5-4f27-98c8-c8fdbb3aeb6b",
   "metadata": {},
   "source": [
    "# SortinoHyperOptLoss 27\n",
    "Best result:\n",
    "\n",
    "   206/500:    103 trades. 33/0/70 Wins/Draws/Losses. Avg profit  12.69%. Median profit  -4.07%. Total profit 1239.95976973 USDT ( 124.00%). Avg duration 9 days, 12:12:00 min. Objective: -36.73608\n",
    "\n",
    "    # Protection hyperspace params:\n",
    "    protection_params = {\n",
    "        \"cooldown_stop_duration_candles\": 1,\n",
    "        \"lowprofit2_lookback_period_candles\": 297,\n",
    "        \"lowprofit2_required_profit\": 0.021,\n",
    "        \"lowprofit2_stop_duration_candles\": 18,\n",
    "        \"lowprofit2_trade_limit\": 50,\n",
    "        \"lowprofit_lookback_period_candles\": 54,\n",
    "        \"lowprofit_required_profit\": 0.05,\n",
    "        \"lowprofit_stop_duration_candles\": 93,\n",
    "        \"lowprofit_trade_limit\": 25,\n",
    "        \"maxdrawdown_lookback_period_candles\": 34,\n",
    "        \"maxdrawdown_max_allowed_drawdown\": 0.17,\n",
    "        \"maxdrawdown_stop_duration_candles\": 36,\n",
    "        \"maxdrawdown_trade_limit\": 16,\n",
    "        \"stoplossguard_lookback_period_candles\": 224,\n",
    "        \"stoplossguard_stop_duration_candles\": 8,\n",
    "        \"stoplossguard_trade_limit\": 8,\n",
    "    }"
   ]
  },
  {
   "cell_type": "markdown",
   "id": "17ea3d6b-fa3a-4370-9196-8dc5a5922bfa",
   "metadata": {
    "jp-MarkdownHeadingCollapsed": true
   },
   "source": [
    "# Hyperopt trades"
   ]
  },
  {
   "cell_type": "markdown",
   "id": "2e190137-d65b-4440-84ec-c83bbef01436",
   "metadata": {
    "jp-MarkdownHeadingCollapsed": true
   },
   "source": [
    "# Add protection"
   ]
  },
  {
   "cell_type": "markdown",
   "id": "af34b331-1da1-467f-a488-11de8d0e36ba",
   "metadata": {
    "jp-MarkdownHeadingCollapsed": true
   },
   "source": [
    "## 1d"
   ]
  },
  {
   "cell_type": "code",
   "execution_count": 54,
   "id": "ed7e95fe-cc38-4985-a769-b25697598b9f",
   "metadata": {},
   "outputs": [
    {
     "name": "stdout",
     "output_type": "stream",
     "text": [
      "Testing hyperopted \u001b[34mErumperator\u001b[0m on \u001b[34m1d@R21TD with checks and without protections\u001b[0m\n",
      "Params: \u001b[33mBL 17\u001b[0m\n",
      "Strategy: \u001b[32mbuy on resistance_breakout\u001b[0m and \u001b[31msell on breakout end\u001b[0m\n",
      "Function took \u001b[31m48.12\u001b[0m seconds to execute.\n",
      "Backtested 2021-02-14 00:00:00 -> 2023-07-27 00:00:00 | Max open trades : 48\n",
      "========================================================================== STRATEGY SUMMARY ==========================================================================\n",
      "|    Strategy |   Entries |   Avg Profit % |   Cum Profit % |   Tot Profit USDT |   Tot Profit % |     Avg Duration |   Win  Draw  Loss  Win% |             Drawdown |\n",
      "|-------------+-----------+----------------+----------------+-------------------+----------------+------------------+-------------------------+----------------------|\n",
      "| Erumperator |       684 |           2.52 |        1723.81 |          1701.763 |         170.18 | 10 days, 6:13:00 |   211     0   473  30.8 | 893.173 USDT  31.19% |\n",
      "======================================================================================================================================================================\n"
     ]
    }
   ],
   "source": [
    "TIMEFRAME=\"1d\"\n",
    "TIMERANGE=R21TD\n",
    "\n",
    "print(f\"Testing hyperopted {Fore.BLUE}{STRATEGY}{Style.RESET_ALL} on {Fore.BLUE}{TIMEFRAME}@R21TD with checks and without protections{Style.RESET_ALL}\")\n",
    "print(update_params(17))\n",
    "print(f\"Strategy: {Fore.GREEN}buy on resistance_breakout{Style.RESET_ALL} and {Fore.RED}sell on breakout end{Style.RESET_ALL}\")\n",
    "\n",
    "cmd=f\"freqtrade backtesting --dmmp --strategy {STRATEGY} --config {MAINCONF} --timeframe {TIMEFRAME} \"\\\n",
    "    f\"--timerange {TIMERANGE} --breakdown month\"\n",
    "\n",
    "output = run(cmd)\n",
    "print(extract_summary(output))\n",
    "# print(extract_monthly(output))"
   ]
  },
  {
   "cell_type": "code",
   "execution_count": 55,
   "id": "d76e2de5-7f18-4aa7-b139-898cdc6007ab",
   "metadata": {},
   "outputs": [
    {
     "name": "stdout",
     "output_type": "stream",
     "text": [
      "Testing hyperopted \u001b[34mErumperator\u001b[0m on \u001b[34m1d@R21TD with checks and without protections\u001b[0m\n",
      "Params: \u001b[33mBL 17\u001b[0m\n",
      "Strategy: \u001b[32mbuy on resistance_breakout\u001b[0m and \u001b[31msell on breakout end\u001b[0m\n",
      "Function took \u001b[31m30.24\u001b[0m seconds to execute.\n",
      "Backtested 2021-02-14 00:00:00 -> 2023-07-27 00:00:00 | Max open trades : 48\n",
      "========================================================================== STRATEGY SUMMARY ==========================================================================\n",
      "|    Strategy |   Entries |   Avg Profit % |   Cum Profit % |   Tot Profit USDT |   Tot Profit % |     Avg Duration |   Win  Draw  Loss  Win% |             Drawdown |\n",
      "|-------------+-----------+----------------+----------------+-------------------+----------------+------------------+-------------------------+----------------------|\n",
      "| Erumperator |       344 |           6.94 |        2387.29 |          2385.374 |         238.54 | 12 days, 4:40:00 |   106     0   238  30.8 | 415.434 USDT  12.12% |\n",
      "======================================================================================================================================================================\n"
     ]
    }
   ],
   "source": [
    "TIMEFRAME=\"1d\"\n",
    "TIMERANGE=R21TD\n",
    "\n",
    "print(f\"Testing hyperopted {Fore.BLUE}{STRATEGY}{Style.RESET_ALL} on {Fore.BLUE}{TIMEFRAME}@R21TD with checks and with protections{Style.RESET_ALL}\")\n",
    "print(update_params(17))\n",
    "print(f\"Strategy: {Fore.GREEN}buy on resistance_breakout{Style.RESET_ALL} and {Fore.RED}sell on breakout end{Style.RESET_ALL}\")\n",
    "\n",
    "cmd=f\"freqtrade backtesting --dmmp --strategy {STRATEGY} --config {MAINCONF} --timeframe {TIMEFRAME} \"\\\n",
    "    f\"--timerange {TIMERANGE} --breakdown month --enable-protections\"\n",
    "\n",
    "output = run(cmd)\n",
    "print(extract_summary(output))\n",
    "# print(extract_monthly(output))"
   ]
  },
  {
   "cell_type": "code",
   "execution_count": 60,
   "id": "491d2b9f-0693-452e-bf37-3e577f8431e0",
   "metadata": {
    "scrolled": true
   },
   "outputs": [
    {
     "name": "stdout",
     "output_type": "stream",
     "text": [
      "Testing hyperopted \u001b[34mErumperator\u001b[0m on \u001b[34m1d@R21TD with checks and without protections\u001b[0m\n",
      "Params: \u001b[33mBL 17\u001b[0m\n",
      "Strategy: \u001b[32mbuy on resistance_breakout\u001b[0m and \u001b[31msell on breakout end\u001b[0m\n",
      "Function took \u001b[31m17.52\u001b[0m seconds to execute.\n",
      "Backtested 2023-01-01 00:00:00 -> 2023-07-27 00:00:00 | Max open trades : 48\n",
      "=========================================================================== STRATEGY SUMMARY ==========================================================================\n",
      "|    Strategy |   Entries |   Avg Profit % |   Cum Profit % |   Tot Profit USDT |   Tot Profit % |      Avg Duration |   Win  Draw  Loss  Win% |             Drawdown |\n",
      "|-------------+-----------+----------------+----------------+-------------------+----------------+-------------------+-------------------------+----------------------|\n",
      "| Erumperator |       138 |           2.75 |         380.15 |           372.082 |          37.21 | 10 days, 13:13:00 |    47     0    91  34.1 | 223.477 USDT  17.32% |\n",
      "=======================================================================================================================================================================\n"
     ]
    }
   ],
   "source": [
    "TIMEFRAME=\"1d\"\n",
    "TIMERANGE=YTD\n",
    "\n",
    "print(f\"Testing hyperopted {Fore.BLUE}{STRATEGY}{Style.RESET_ALL} on {Fore.BLUE}{TIMEFRAME}@YTD with checks and without protections{Style.RESET_ALL}\")\n",
    "print(update_params(17))\n",
    "print(f\"Strategy: {Fore.GREEN}buy on resistance_breakout{Style.RESET_ALL} and {Fore.RED}sell on breakout end{Style.RESET_ALL}\")\n",
    "\n",
    "cmd=f\"freqtrade backtesting --dmmp --strategy {STRATEGY} --config {MAINCONF} --timeframe {TIMEFRAME} \"\\\n",
    "    f\"--timerange {TIMERANGE} --breakdown month\"\n",
    "\n",
    "output = run(cmd)\n",
    "print(extract_summary(output))\n",
    "# print(extract_monthly(output))"
   ]
  },
  {
   "cell_type": "code",
   "execution_count": 57,
   "id": "ee23c1ad-6f86-4b0a-b277-7cbe886e6315",
   "metadata": {},
   "outputs": [
    {
     "name": "stdout",
     "output_type": "stream",
     "text": [
      "Testing hyperopted \u001b[34mErumperator\u001b[0m on \u001b[34m1d@R21TD with checks and without protections\u001b[0m\n",
      "Params: \u001b[33mBL 17\u001b[0m\n",
      "Strategy: \u001b[32mbuy on resistance_breakout\u001b[0m and \u001b[31msell on breakout end\u001b[0m\n",
      "Function took \u001b[31m17.48\u001b[0m seconds to execute.\n",
      "Backtested 2023-01-01 00:00:00 -> 2023-07-27 00:00:00 | Max open trades : 48\n",
      "=========================================================================== STRATEGY SUMMARY ==========================================================================\n",
      "|    Strategy |   Entries |   Avg Profit % |   Cum Profit % |   Tot Profit USDT |   Tot Profit % |      Avg Duration |   Win  Draw  Loss  Win% |             Drawdown |\n",
      "|-------------+-----------+----------------+----------------+-------------------+----------------+-------------------+-------------------------+----------------------|\n",
      "| Erumperator |        85 |           5.81 |         494.09 |           482.726 |          48.27 | 10 days, 15:49:00 |    31     0    54  36.5 | 207.306 USDT  14.93% |\n",
      "=======================================================================================================================================================================\n"
     ]
    }
   ],
   "source": [
    "TIMEFRAME=\"1d\"\n",
    "TIMERANGE=YTD\n",
    "\n",
    "print(f\"Testing hyperopted {Fore.BLUE}{STRATEGY}{Style.RESET_ALL} on {Fore.BLUE}{TIMEFRAME}@YTD with checks and with protections{Style.RESET_ALL}\")\n",
    "print(update_params(17))\n",
    "print(f\"Strategy: {Fore.GREEN}buy on resistance_breakout{Style.RESET_ALL} and {Fore.RED}sell on breakout end{Style.RESET_ALL}\")\n",
    "\n",
    "cmd=f\"freqtrade backtesting --dmmp --strategy {STRATEGY} --config {MAINCONF} --timeframe {TIMEFRAME} \"\\\n",
    "    f\"--timerange {TIMERANGE} --breakdown month --enable-protections\"\n",
    "\n",
    "output = run(cmd)\n",
    "print(extract_summary(output))\n",
    "# print(extract_monthly(output))"
   ]
  },
  {
   "cell_type": "markdown",
   "id": "6beaf1d8-19b4-47fe-9065-582fe5dfd1b2",
   "metadata": {
    "jp-MarkdownHeadingCollapsed": true
   },
   "source": [
    "## 12h"
   ]
  },
  {
   "cell_type": "code",
   "execution_count": 108,
   "id": "a23fdddc-f8ae-4610-a14e-958b2371ed4e",
   "metadata": {},
   "outputs": [
    {
     "name": "stdout",
     "output_type": "stream",
     "text": [
      "Testing hyperopted \u001b[34mErumperator\u001b[0m on \u001b[34m12h@R21TD with checks and without protections\u001b[0m\n",
      "Params: \u001b[33mBL 23\u001b[0m\n",
      "Strategy: \u001b[32mbuy on resistance_breakout\u001b[0m and \u001b[31msell on breakout end\u001b[0m\n",
      "Function took \u001b[31m54.44\u001b[0m seconds to execute.\n",
      "Backtested 2021-01-23 00:00:00 -> 2023-07-27 12:00:00 | Max open trades : 48\n",
      "========================================================================== STRATEGY SUMMARY ==========================================================================\n",
      "|    Strategy |   Entries |   Avg Profit % |   Cum Profit % |   Tot Profit USDT |   Tot Profit % |    Avg Duration |   Win  Draw  Loss  Win% |              Drawdown |\n",
      "|-------------+-----------+----------------+----------------+-------------------+----------------+-----------------+-------------------------+-----------------------|\n",
      "| Erumperator |      1561 |           1.37 |        2134.86 |          2023.773 |         202.38 | 6 days, 3:43:00 |   431     0  1130  27.6 | 1752.507 USDT  40.89% |\n",
      "======================================================================================================================================================================\n"
     ]
    }
   ],
   "source": [
    "TIMEFRAME=\"12h\"\n",
    "TIMERANGE=R21TD\n",
    "\n",
    "print(f\"Testing hyperopted {Fore.BLUE}{STRATEGY}{Style.RESET_ALL} on {Fore.BLUE}{TIMEFRAME}@R21TD with checks and without protections{Style.RESET_ALL}\")\n",
    "print(update_params(23))\n",
    "print(f\"Strategy: {Fore.GREEN}buy on resistance_breakout{Style.RESET_ALL} and {Fore.RED}sell on breakout end{Style.RESET_ALL}\")\n",
    "\n",
    "cmd=f\"freqtrade backtesting --dmmp --strategy {STRATEGY} --config {MAINCONF} --timeframe {TIMEFRAME} \"\\\n",
    "    f\"--timerange {TIMERANGE} --breakdown month\"\n",
    "\n",
    "output = run(cmd)\n",
    "print(extract_summary(output))\n",
    "# print(extract_monthly(output))"
   ]
  },
  {
   "cell_type": "code",
   "execution_count": 109,
   "id": "61d44bcc-da14-4b2e-b15c-0fa8baa617a4",
   "metadata": {},
   "outputs": [
    {
     "name": "stdout",
     "output_type": "stream",
     "text": [
      "Testing hyperopted \u001b[34mErumperator\u001b[0m on \u001b[34m12h@R21TD with checks and with protections\u001b[0m\n",
      "Params: \u001b[33mBL 23\u001b[0m\n",
      "Strategy: \u001b[32mbuy on resistance_breakout\u001b[0m and \u001b[31msell on breakout end\u001b[0m\n",
      "Function took \u001b[31m29.68\u001b[0m seconds to execute.\n",
      "Backtested 2021-01-23 00:00:00 -> 2023-07-27 12:00:00 | Max open trades : 48\n",
      "========================================================================== STRATEGY SUMMARY ==========================================================================\n",
      "|    Strategy |   Entries |   Avg Profit % |   Cum Profit % |   Tot Profit USDT |   Tot Profit % |     Avg Duration |   Win  Draw  Loss  Win% |             Drawdown |\n",
      "|-------------+-----------+----------------+----------------+-------------------+----------------+------------------+-------------------------+----------------------|\n",
      "| Erumperator |       402 |          -0.19 |         -75.48 |           -57.124 |          -5.71 | 6 days, 21:17:00 |   112     0   290  27.9 | 900.433 USDT  59.78% |\n",
      "======================================================================================================================================================================\n"
     ]
    }
   ],
   "source": [
    "TIMEFRAME=\"12h\"\n",
    "TIMERANGE=R21TD\n",
    "\n",
    "print(f\"Testing hyperopted {Fore.BLUE}{STRATEGY}{Style.RESET_ALL} on {Fore.BLUE}{TIMEFRAME}@R21TD with checks and with protections{Style.RESET_ALL}\")\n",
    "print(update_params(23))\n",
    "print(f\"Strategy: {Fore.GREEN}buy on resistance_breakout{Style.RESET_ALL} and {Fore.RED}sell on breakout end{Style.RESET_ALL}\")\n",
    "\n",
    "cmd=f\"freqtrade backtesting --dmmp --strategy {STRATEGY} --config {MAINCONF} --timeframe {TIMEFRAME} \"\\\n",
    "    f\"--timerange {TIMERANGE} --breakdown month --enable-protections\"\n",
    "\n",
    "output = run(cmd)\n",
    "print(extract_summary(output))\n",
    "# print(extract_monthly(output))"
   ]
  },
  {
   "cell_type": "code",
   "execution_count": 106,
   "id": "008cf21e-4877-4208-941c-33a22deddb9e",
   "metadata": {},
   "outputs": [
    {
     "name": "stdout",
     "output_type": "stream",
     "text": [
      "Testing hyperopted \u001b[34mErumperator\u001b[0m on \u001b[34m12h@YTD with checks and without protections\u001b[0m\n",
      "Params: \u001b[33mBL 23\u001b[0m\n",
      "Strategy: \u001b[32mbuy on resistance_breakout\u001b[0m and \u001b[31msell on breakout end\u001b[0m\n",
      "Function took \u001b[31m20.04\u001b[0m seconds to execute.\n",
      "Backtested 2023-01-01 00:00:00 -> 2023-07-27 12:00:00 | Max open trades : 48\n",
      "========================================================================== STRATEGY SUMMARY =========================================================================\n",
      "|    Strategy |   Entries |   Avg Profit % |   Cum Profit % |   Tot Profit USDT |   Tot Profit % |    Avg Duration |   Win  Draw  Loss  Win% |             Drawdown |\n",
      "|-------------+-----------+----------------+----------------+-------------------+----------------+-----------------+-------------------------+----------------------|\n",
      "| Erumperator |       227 |           1.99 |         451.49 |           441.823 |          44.18 | 6 days, 7:24:00 |    69     0   158  30.4 | 318.299 USDT  23.12% |\n",
      "=====================================================================================================================================================================\n"
     ]
    }
   ],
   "source": [
    "TIMEFRAME=\"12h\"\n",
    "TIMERANGE=YTD\n",
    "\n",
    "print(f\"Testing hyperopted {Fore.BLUE}{STRATEGY}{Style.RESET_ALL} on {Fore.BLUE}{TIMEFRAME}@YTD with checks and without protections{Style.RESET_ALL}\")\n",
    "print(update_params(23))\n",
    "print(f\"Strategy: {Fore.GREEN}buy on resistance_breakout{Style.RESET_ALL} and {Fore.RED}sell on breakout end{Style.RESET_ALL}\")\n",
    "\n",
    "cmd=f\"freqtrade backtesting --dmmp --strategy {STRATEGY} --config {MAINCONF} --timeframe {TIMEFRAME} \"\\\n",
    "    f\"--timerange {TIMERANGE} --breakdown month\"\n",
    "\n",
    "output = run(cmd)\n",
    "print(extract_summary(output))\n",
    "# print(extract_monthly(output))"
   ]
  },
  {
   "cell_type": "code",
   "execution_count": 107,
   "id": "f3d8fa17-0969-441b-8624-b4c731960d4a",
   "metadata": {},
   "outputs": [
    {
     "name": "stdout",
     "output_type": "stream",
     "text": [
      "Testing hyperopted \u001b[34mErumperator\u001b[0m on \u001b[34m12h@YTD with checks and with protections\u001b[0m\n",
      "Params: \u001b[33mBL 23\u001b[0m\n",
      "Strategy: \u001b[32mbuy on resistance_breakout\u001b[0m and \u001b[31msell on breakout end\u001b[0m\n",
      "Function took \u001b[31m18.78\u001b[0m seconds to execute.\n",
      "Backtested 2023-01-01 00:00:00 -> 2023-07-27 12:00:00 | Max open trades : 48\n",
      "========================================================================== STRATEGY SUMMARY ==========================================================================\n",
      "|    Strategy |   Entries |   Avg Profit % |   Cum Profit % |   Tot Profit USDT |   Tot Profit % |     Avg Duration |   Win  Draw  Loss  Win% |             Drawdown |\n",
      "|-------------+-----------+----------------+----------------+-------------------+----------------+------------------+-------------------------+----------------------|\n",
      "| Erumperator |       132 |           2.21 |         291.46 |           283.439 |          28.34 | 5 days, 23:33:00 |    39     0    93  29.5 | 242.068 USDT  17.63% |\n",
      "======================================================================================================================================================================\n"
     ]
    }
   ],
   "source": [
    "TIMEFRAME=\"12h\"\n",
    "TIMERANGE=YTD\n",
    "\n",
    "print(f\"Testing hyperopted {Fore.BLUE}{STRATEGY}{Style.RESET_ALL} on {Fore.BLUE}{TIMEFRAME}@YTD with checks and with protections{Style.RESET_ALL}\")\n",
    "print(update_params(23))\n",
    "print(f\"Strategy: {Fore.GREEN}buy on resistance_breakout{Style.RESET_ALL} and {Fore.RED}sell on breakout end{Style.RESET_ALL}\")\n",
    "\n",
    "cmd=f\"freqtrade backtesting --dmmp --strategy {STRATEGY} --config {MAINCONF} --timeframe {TIMEFRAME} \"\\\n",
    "    f\"--timerange {TIMERANGE} --breakdown month --enable-protections\"\n",
    "\n",
    "output = run(cmd)\n",
    "print(extract_summary(output))\n",
    "# print(extract_monthly(output))"
   ]
  },
  {
   "cell_type": "markdown",
   "id": "ea3c2628-19c6-4f48-98e5-b139285676cb",
   "metadata": {
    "jp-MarkdownHeadingCollapsed": true
   },
   "source": [
    "## 8h"
   ]
  },
  {
   "cell_type": "code",
   "execution_count": 62,
   "id": "3aa88b3b-ecf8-4b25-9de2-d5dd48d54187",
   "metadata": {},
   "outputs": [
    {
     "name": "stdout",
     "output_type": "stream",
     "text": [
      "Testing hyperopted \u001b[34mErumperator\u001b[0m on \u001b[34m8h@R21TD with checks and without protections\u001b[0m\n",
      "Params: \u001b[33mBL 17\u001b[0m\n",
      "Strategy: \u001b[32mbuy on resistance_breakout\u001b[0m and \u001b[31msell on start_support_breakout\u001b[0m\n",
      "Function took \u001b[31m1.30\u001b[0m minutes to execute.\n",
      "Backtested 2021-01-15 16:00:00 -> 2023-07-27 16:00:00 | Max open trades : 48\n",
      "========================================================================== STRATEGY SUMMARY ==========================================================================\n",
      "|    Strategy |   Entries |   Avg Profit % |   Cum Profit % |   Tot Profit USDT |   Tot Profit % |    Avg Duration |   Win  Draw  Loss  Win% |              Drawdown |\n",
      "|-------------+-----------+----------------+----------------+-------------------+----------------+-----------------+-------------------------+-----------------------|\n",
      "| Erumperator |      1630 |           1.56 |        2537.93 |          2481.953 |         248.20 | 7 days, 2:18:00 |   455     0  1175  27.9 | 1113.809 USDT  27.41% |\n",
      "======================================================================================================================================================================\n"
     ]
    }
   ],
   "source": [
    "TIMEFRAME=\"8h\"\n",
    "TIMERANGE=R21TD\n",
    "\n",
    "print(f\"Testing hyperopted {Fore.BLUE}{STRATEGY}{Style.RESET_ALL} on {Fore.BLUE}{TIMEFRAME}@R21TD with checks and without protections{Style.RESET_ALL}\")\n",
    "print(update_params(17))\n",
    "print(f\"Strategy: {Fore.GREEN}buy on resistance_breakout{Style.RESET_ALL} and {Fore.RED}sell on start_support_breakout{Style.RESET_ALL}\")\n",
    "\n",
    "cmd=f\"freqtrade backtesting --dmmp --strategy {STRATEGY} --config {MAINCONF} --timeframe {TIMEFRAME} \"\\\n",
    "    f\"--timerange {TIMERANGE} --breakdown month\"\n",
    "\n",
    "output = run(cmd)\n",
    "print(extract_summary(output))\n",
    "# print(extract_monthly(output))"
   ]
  },
  {
   "cell_type": "code",
   "execution_count": 63,
   "id": "c6806186-7769-4fe7-8675-779866a06b2d",
   "metadata": {},
   "outputs": [
    {
     "name": "stdout",
     "output_type": "stream",
     "text": [
      "Testing hyperopted \u001b[34mErumperator\u001b[0m on \u001b[34m8h@R21TD with checks and with protections\u001b[0m\n",
      "Params: \u001b[33mBL 17\u001b[0m\n",
      "Strategy: \u001b[32mbuy on resistance_breakout\u001b[0m and \u001b[31msell on start_support_breakout\u001b[0m\n",
      "Function took \u001b[31m42.64\u001b[0m seconds to execute.\n",
      "Backtested 2021-01-15 16:00:00 -> 2023-07-27 16:00:00 | Max open trades : 48\n",
      "========================================================================= STRATEGY SUMMARY =========================================================================\n",
      "|    Strategy |   Entries |   Avg Profit % |   Cum Profit % |   Tot Profit USDT |   Tot Profit % |     Avg Duration |   Win  Draw  Loss  Win% |           Drawdown |\n",
      "|-------------+-----------+----------------+----------------+-------------------+----------------+------------------+-------------------------+--------------------|\n",
      "| Erumperator |       503 |           1.12 |         565.09 |           521.003 |          52.10 | 7 days, 12:22:00 |   140     0   363  27.8 | 573.5 USDT  36.83% |\n",
      "====================================================================================================================================================================\n"
     ]
    }
   ],
   "source": [
    "TIMEFRAME=\"8h\"\n",
    "TIMERANGE=R21TD\n",
    "\n",
    "print(f\"Testing hyperopted {Fore.BLUE}{STRATEGY}{Style.RESET_ALL} on {Fore.BLUE}{TIMEFRAME}@R21TD with checks and with protections{Style.RESET_ALL}\")\n",
    "print(update_params(17))\n",
    "print(f\"Strategy: {Fore.GREEN}buy on resistance_breakout{Style.RESET_ALL} and {Fore.RED}sell on start_support_breakout{Style.RESET_ALL}\")\n",
    "\n",
    "cmd=f\"freqtrade backtesting --dmmp --strategy {STRATEGY} --config {MAINCONF} --timeframe {TIMEFRAME} \"\\\n",
    "    f\"--timerange {TIMERANGE} --breakdown month --enable-protections\"\n",
    "\n",
    "output = run(cmd)\n",
    "print(extract_summary(output))\n",
    "# print(extract_monthly(output))"
   ]
  },
  {
   "cell_type": "code",
   "execution_count": 64,
   "id": "d18b0b47-9d8e-42b4-8dc4-10f0cdf2e366",
   "metadata": {},
   "outputs": [
    {
     "name": "stdout",
     "output_type": "stream",
     "text": [
      "Testing hyperopted \u001b[34mErumperator\u001b[0m on \u001b[34m8h@YTD with checks and without protections\u001b[0m\n",
      "Params: \u001b[33mBL 17\u001b[0m\n",
      "Strategy: \u001b[32mbuy on resistance_breakout\u001b[0m and \u001b[31msell on start_support_breakout\u001b[0m\n",
      "Function took \u001b[31m23.33\u001b[0m seconds to execute.\n",
      "Backtested 2023-01-01 00:00:00 -> 2023-07-27 16:00:00 | Max open trades : 48\n",
      "========================================================================== STRATEGY SUMMARY ==========================================================================\n",
      "|    Strategy |   Entries |   Avg Profit % |   Cum Profit % |   Tot Profit USDT |   Tot Profit % |     Avg Duration |   Win  Draw  Loss  Win% |             Drawdown |\n",
      "|-------------+-----------+----------------+----------------+-------------------+----------------+------------------+-------------------------+----------------------|\n",
      "| Erumperator |       232 |           2.57 |         595.78 |           585.675 |          58.57 | 7 days, 13:14:00 |    78     0   154  33.6 | 271.947 USDT  17.37% |\n",
      "======================================================================================================================================================================\n"
     ]
    }
   ],
   "source": [
    "TIMEFRAME=\"8h\"\n",
    "TIMERANGE=YTD\n",
    "\n",
    "print(f\"Testing hyperopted {Fore.BLUE}{STRATEGY}{Style.RESET_ALL} on {Fore.BLUE}{TIMEFRAME}@YTD with checks and without protections{Style.RESET_ALL}\")\n",
    "print(update_params(17))\n",
    "print(f\"Strategy: {Fore.GREEN}buy on resistance_breakout{Style.RESET_ALL} and {Fore.RED}sell on start_support_breakout{Style.RESET_ALL}\")\n",
    "\n",
    "cmd=f\"freqtrade backtesting --dmmp --strategy {STRATEGY} --config {MAINCONF} --timeframe {TIMEFRAME} \"\\\n",
    "    f\"--timerange {TIMERANGE} --breakdown month\"\n",
    "\n",
    "output = run(cmd)\n",
    "print(extract_summary(output))\n",
    "# print(extract_monthly(output))"
   ]
  },
  {
   "cell_type": "code",
   "execution_count": 65,
   "id": "210c741a-ba9f-4712-a267-add22eed6333",
   "metadata": {},
   "outputs": [
    {
     "name": "stdout",
     "output_type": "stream",
     "text": [
      "Testing hyperopted \u001b[34mErumperator\u001b[0m on \u001b[34m8h@YTD with checks and with protections\u001b[0m\n",
      "Params: \u001b[33mBL 17\u001b[0m\n",
      "Strategy: \u001b[32mbuy on resistance_breakout\u001b[0m and \u001b[31msell on start_support_breakout\u001b[0m\n",
      "Function took \u001b[31m21.48\u001b[0m seconds to execute.\n",
      "Backtested 2023-01-01 00:00:00 -> 2023-07-27 16:00:00 | Max open trades : 48\n",
      "========================================================================== STRATEGY SUMMARY ==========================================================================\n",
      "|    Strategy |   Entries |   Avg Profit % |   Cum Profit % |   Tot Profit USDT |   Tot Profit % |     Avg Duration |   Win  Draw  Loss  Win% |             Drawdown |\n",
      "|-------------+-----------+----------------+----------------+-------------------+----------------+------------------+-------------------------+----------------------|\n",
      "| Erumperator |       114 |           4.59 |         523.04 |           514.882 |          51.49 | 9 days, 17:28:00 |    35     0    79  30.7 | 264.847 USDT  16.90% |\n",
      "======================================================================================================================================================================\n"
     ]
    }
   ],
   "source": [
    "TIMEFRAME=\"8h\"\n",
    "TIMERANGE=YTD\n",
    "\n",
    "print(f\"Testing hyperopted {Fore.BLUE}{STRATEGY}{Style.RESET_ALL} on {Fore.BLUE}{TIMEFRAME}@YTD with checks and with protections{Style.RESET_ALL}\")\n",
    "print(update_params(17))\n",
    "print(f\"Strategy: {Fore.GREEN}buy on resistance_breakout{Style.RESET_ALL} and {Fore.RED}sell on start_support_breakout{Style.RESET_ALL}\")\n",
    "\n",
    "cmd=f\"freqtrade backtesting --dmmp --strategy {STRATEGY} --config {MAINCONF} --timeframe {TIMEFRAME} \"\\\n",
    "    f\"--timerange {TIMERANGE} --breakdown month --enable-protections\"\n",
    "\n",
    "output = run(cmd)\n",
    "print(extract_summary(output))\n",
    "# print(extract_monthly(output))"
   ]
  },
  {
   "cell_type": "markdown",
   "id": "27568677-1629-451a-8b9f-a046066b9501",
   "metadata": {
    "jp-MarkdownHeadingCollapsed": true
   },
   "source": [
    "# Find blacklisting pairs"
   ]
  },
  {
   "cell_type": "code",
   "execution_count": 98,
   "id": "6f75ec7e-e36d-4013-881d-4eaac1829b04",
   "metadata": {},
   "outputs": [
    {
     "name": "stdout",
     "output_type": "stream",
     "text": [
      "Testing hyperopted \u001b[34mErumperator\u001b[0m on \u001b[34m1d@FULL with checks and with protections\u001b[0m\n",
      "Params: \u001b[33mBL 17\u001b[0m\n",
      "Strategy: \u001b[32mbuy on resistance_breakout\u001b[0m and \u001b[31msell on breakout end\u001b[0m\n",
      "Function took \u001b[31m11.32\u001b[0m seconds to execute.\n",
      "\n",
      "================================================================== BACKTESTING REPORT =================================================================\n",
      "|               Pair |   Entries |   Avg Profit % |   Cum Profit % |   Tot Profit USDT |   Tot Profit % |      Avg Duration |   Win  Draw  Loss  Win% |\n",
      "|--------------------+-----------+----------------+----------------+-------------------+----------------+-------------------+-------------------------|\n",
      "|     AAVE/USDT:USDT |         3 |          -6.35 |         -19.05 |           -16.187 |          -1.62 |   1 day, 16:00:00 |     0     0     3     0 |\n",
      "|     LINK/USDT:USDT |         3 |          -5.93 |         -17.79 |           -17.757 |          -1.78 |  10 days, 8:00:00 |     1     0     2  33.3 |\n",
      "|      ETC/USDT:USDT |         3 |          -6.88 |         -20.63 |           -20.601 |          -2.06 |  13 days, 8:00:00 |     0     0     3     0 |\n",
      "|     COMP/USDT:USDT |         2 |         -11.64 |         -23.28 |           -23.261 |          -2.33 |  12 days, 0:00:00 |     0     0     2     0 |\n",
      "|     BAKE/USDT:USDT |         2 |         -17.30 |         -34.60 |           -34.151 |          -3.42 |  15 days, 0:00:00 |     0     0     2     0 |\n",
      "=======================================================================================================================================================\n"
     ]
    }
   ],
   "source": [
    "TIMEFRAME=\"1d\"\n",
    "TIMERANGE=FULL\n",
    "\n",
    "print(f\"Testing hyperopted {Fore.BLUE}{STRATEGY}{Style.RESET_ALL} on {Fore.BLUE}{TIMEFRAME}@FULL with checks and with protections{Style.RESET_ALL}\")\n",
    "print(update_params(17))\n",
    "print(f\"Strategy: {Fore.GREEN}buy on resistance_breakout{Style.RESET_ALL} and {Fore.RED}sell on breakout end{Style.RESET_ALL}\")\n",
    "\n",
    "cmd=f\"freqtrade backtesting --dmmp --strategy {STRATEGY} --config {MAINCONF} --timeframe {TIMEFRAME} \"\\\n",
    "    f\"--timerange {TIMERANGE} --enable-protections\"\n",
    "\n",
    "output = run(cmd)\n",
    "print(extract_worst_pairs(output))"
   ]
  },
  {
   "cell_type": "code",
   "execution_count": 99,
   "id": "af428b8d-5f83-41f7-8f96-e24584ca3a7b",
   "metadata": {},
   "outputs": [
    {
     "name": "stdout",
     "output_type": "stream",
     "text": [
      "Testing hyperopted \u001b[34mErumperator\u001b[0m on \u001b[34m1d@R21TD with checks and with protections\u001b[0m\n",
      "Params: \u001b[33mBL 17\u001b[0m\n",
      "Strategy: \u001b[32mbuy on resistance_breakout\u001b[0m and \u001b[31msell on breakout end\u001b[0m\n",
      "Function took \u001b[31m26.45\u001b[0m seconds to execute.\n",
      "\n",
      "================================================================== BACKTESTING REPORT =================================================================\n",
      "|               Pair |   Entries |   Avg Profit % |   Cum Profit % |   Tot Profit USDT |   Tot Profit % |      Avg Duration |   Win  Draw  Loss  Win% |\n",
      "|--------------------+-----------+----------------+----------------+-------------------+----------------+-------------------+-------------------------|\n",
      "|      ADA/USDT:USDT |         8 |          -8.42 |         -67.35 |           -66.889 |          -6.69 |  7 days, 12:00:00 |     2     0     6  25.0 |\n",
      "|     AVAX/USDT:USDT |        10 |          -8.53 |         -85.25 |           -67.043 |          -6.70 |  5 days, 16:48:00 |     3     0     7  30.0 |\n",
      "|     AAVE/USDT:USDT |        12 |          -6.81 |         -81.74 |           -73.890 |          -7.39 |  12 days, 2:00:00 |     1     0    11   8.3 |\n",
      "|     LINK/USDT:USDT |        14 |          -5.45 |         -76.29 |           -76.237 |          -7.62 |   9 days, 5:09:00 |     3     0    11  21.4 |\n",
      "|      CRV/USDT:USDT |        13 |          -6.29 |         -81.77 |           -81.638 |          -8.16 |  7 days, 18:28:00 |     3     0    10  23.1 |\n",
      "=======================================================================================================================================================\n"
     ]
    }
   ],
   "source": [
    "TIMEFRAME=\"1d\"\n",
    "TIMERANGE=R21TD\n",
    "\n",
    "print(f\"Testing hyperopted {Fore.BLUE}{STRATEGY}{Style.RESET_ALL} on {Fore.BLUE}{TIMEFRAME}@R21TD with checks and with protections{Style.RESET_ALL}\")\n",
    "print(update_params(17))\n",
    "print(f\"Strategy: {Fore.GREEN}buy on resistance_breakout{Style.RESET_ALL} and {Fore.RED}sell on breakout end{Style.RESET_ALL}\")\n",
    "\n",
    "cmd=f\"freqtrade backtesting --dmmp --strategy {STRATEGY} --config {MAINCONF} --timeframe {TIMEFRAME} \"\\\n",
    "    f\"--timerange {TIMERANGE} --enable-protections\"\n",
    "\n",
    "output = run(cmd)\n",
    "print(extract_worst_pairs(output))"
   ]
  },
  {
   "cell_type": "code",
   "execution_count": 100,
   "id": "38fee5b8-7baa-4cdd-9b73-c20ba5ea1257",
   "metadata": {},
   "outputs": [
    {
     "name": "stdout",
     "output_type": "stream",
     "text": [
      "Testing hyperopted \u001b[34mErumperator\u001b[0m on \u001b[34m1d@YTD with checks and with protections\u001b[0m\n",
      "Params: \u001b[33mBL 17\u001b[0m\n",
      "Strategy: \u001b[32mbuy on resistance_breakout\u001b[0m and \u001b[31msell on breakout end\u001b[0m\n",
      "Function took \u001b[31m16.58\u001b[0m seconds to execute.\n",
      "\n",
      "================================================================== BACKTESTING REPORT =================================================================\n",
      "|               Pair |   Entries |   Avg Profit % |   Cum Profit % |   Tot Profit USDT |   Tot Profit % |      Avg Duration |   Win  Draw  Loss  Win% |\n",
      "|--------------------+-----------+----------------+----------------+-------------------+----------------+-------------------+-------------------------|\n",
      "|      CRV/USDT:USDT |         2 |          -8.15 |         -16.30 |           -16.295 |          -1.63 |  6 days, 12:00:00 |     0     0     2     0 |\n",
      "|      XRP/USDT:USDT |         2 |          -8.69 |         -17.38 |           -17.380 |          -1.74 | 21 days, 12:00:00 |     0     0     2     0 |\n",
      "|     AAVE/USDT:USDT |         3 |          -6.38 |         -19.14 |           -18.191 |          -1.82 |  3 days, 16:00:00 |     0     0     3     0 |\n",
      "|    WAVES/USDT:USDT |         1 |         -21.65 |         -21.65 |           -21.619 |          -2.16 |   4 days, 0:00:00 |     0     0     1     0 |\n",
      "|      KNC/USDT:USDT |         3 |         -10.57 |         -31.72 |           -31.649 |          -3.16 |   5 days, 0:00:00 |     0     0     3     0 |\n",
      "=======================================================================================================================================================\n"
     ]
    }
   ],
   "source": [
    "TIMEFRAME=\"1d\"\n",
    "TIMERANGE=YTD\n",
    "\n",
    "print(f\"Testing hyperopted {Fore.BLUE}{STRATEGY}{Style.RESET_ALL} on {Fore.BLUE}{TIMEFRAME}@YTD with checks and with protections{Style.RESET_ALL}\")\n",
    "print(update_params(17))\n",
    "print(f\"Strategy: {Fore.GREEN}buy on resistance_breakout{Style.RESET_ALL} and {Fore.RED}sell on breakout end{Style.RESET_ALL}\")\n",
    "\n",
    "cmd=f\"freqtrade backtesting --dmmp --strategy {STRATEGY} --config {MAINCONF} --timeframe {TIMEFRAME} \"\\\n",
    "    f\"--timerange {TIMERANGE} --enable-protections\"\n",
    "\n",
    "output = run(cmd)\n",
    "print(extract_worst_pairs(output))"
   ]
  },
  {
   "cell_type": "code",
   "execution_count": 134,
   "id": "7d521f12-6d95-4f9e-af0d-60882a9afa41",
   "metadata": {},
   "outputs": [
    {
     "name": "stdout",
     "output_type": "stream",
     "text": [
      "Testing hyperopted \u001b[34mErumperator\u001b[0m on \u001b[34m12h@FULL with checks and with protections\u001b[0m\n",
      "Params: \u001b[33mBL 23\u001b[0m\n",
      "Strategy: \u001b[32mbuy on resistance_breakout\u001b[0m and \u001b[31msell on breakout end\u001b[0m\n",
      "Function took \u001b[31m17.66\u001b[0m seconds to execute.\n",
      "\n",
      "================================================================== BACKTESTING REPORT =================================================================\n",
      "|               Pair |   Entries |   Avg Profit % |   Cum Profit % |   Tot Profit USDT |   Tot Profit % |      Avg Duration |   Win  Draw  Loss  Win% |\n",
      "|--------------------+-----------+----------------+----------------+-------------------+----------------+-------------------+-------------------------|\n",
      "|     MASK/USDT:USDT |         7 |          -3.97 |         -27.77 |           -27.196 |          -2.72 |  3 days, 10:17:00 |     2     0     5  28.6 |\n",
      "|     STMX/USDT:USDT |         4 |          -7.85 |         -31.41 |           -31.407 |          -3.14 |    1 day, 6:00:00 |     0     0     4     0 |\n",
      "|     COMP/USDT:USDT |         7 |          -4.54 |         -31.81 |           -31.761 |          -3.18 |  5 days, 10:17:00 |     1     0     6  14.3 |\n",
      "|     TOMO/USDT:USDT |         4 |         -10.47 |         -41.87 |           -40.936 |          -4.09 |   3 days, 0:00:00 |     0     0     4     0 |\n",
      "|      XLM/USDT:USDT |        10 |          -4.64 |         -46.40 |           -46.347 |          -4.63 |   3 days, 9:36:00 |     1     0     9  10.0 |\n",
      "=======================================================================================================================================================\n"
     ]
    }
   ],
   "source": [
    "TIMEFRAME=\"12h\"\n",
    "TIMERANGE=FULL\n",
    "\n",
    "print(f\"Testing hyperopted {Fore.BLUE}{STRATEGY}{Style.RESET_ALL} on {Fore.BLUE}{TIMEFRAME}@FULL with checks and with protections{Style.RESET_ALL}\")\n",
    "print(update_params(23))\n",
    "print(f\"Strategy: {Fore.GREEN}buy on resistance_breakout{Style.RESET_ALL} and {Fore.RED}sell on breakout end{Style.RESET_ALL}\")\n",
    "\n",
    "cmd=f\"freqtrade backtesting --dmmp --strategy {STRATEGY} --config {MAINCONF} --timeframe {TIMEFRAME} \"\\\n",
    "    f\"--timerange {TIMERANGE} --enable-protections\"\n",
    "\n",
    "output = run(cmd)\n",
    "print(extract_worst_pairs(output))"
   ]
  },
  {
   "cell_type": "code",
   "execution_count": 135,
   "id": "70b72583-1f4b-488b-b0cf-a375537ac932",
   "metadata": {},
   "outputs": [
    {
     "name": "stdout",
     "output_type": "stream",
     "text": [
      "Testing hyperopted \u001b[34mErumperator\u001b[0m on \u001b[34m12h@R21TD with checks and with protections\u001b[0m\n",
      "Params: \u001b[33mBL 23\u001b[0m\n",
      "Strategy: \u001b[32mbuy on resistance_breakout\u001b[0m and \u001b[31msell on breakout end\u001b[0m\n",
      "Function took \u001b[31m52.11\u001b[0m seconds to execute.\n",
      "\n",
      "================================================================== BACKTESTING REPORT =================================================================\n",
      "|               Pair |   Entries |   Avg Profit % |   Cum Profit % |   Tot Profit USDT |   Tot Profit % |      Avg Duration |   Win  Draw  Loss  Win% |\n",
      "|--------------------+-----------+----------------+----------------+-------------------+----------------+-------------------+-------------------------|\n",
      "|      CRV/USDT:USDT |        46 |          -2.25 |        -103.53 |          -103.355 |         -10.34 |  5 days, 10:57:00 |    12     0    34  26.1 |\n",
      "|      EOS/USDT:USDT |        42 |          -2.80 |        -117.67 |          -117.488 |         -11.75 |  5 days, 15:26:00 |    11     0    31  26.2 |\n",
      "|     BAKE/USDT:USDT |        31 |          -4.00 |        -123.99 |          -123.180 |         -12.32 |   5 days, 1:10:00 |     7     0    24  22.6 |\n",
      "|     LINK/USDT:USDT |        51 |          -2.90 |        -148.05 |          -148.005 |         -14.80 |   6 days, 0:00:00 |    13     0    38  25.5 |\n",
      "|      SNX/USDT:USDT |        50 |          -4.70 |        -234.91 |          -234.081 |         -23.41 |   5 days, 1:26:00 |     8     0    42  16.0 |\n",
      "=======================================================================================================================================================\n"
     ]
    }
   ],
   "source": [
    "TIMEFRAME=\"12h\"\n",
    "TIMERANGE=R21TD\n",
    "\n",
    "print(f\"Testing hyperopted {Fore.BLUE}{STRATEGY}{Style.RESET_ALL} on {Fore.BLUE}{TIMEFRAME}@R21TD with checks and with protections{Style.RESET_ALL}\")\n",
    "print(update_params(23))\n",
    "print(f\"Strategy: {Fore.GREEN}buy on resistance_breakout{Style.RESET_ALL} and {Fore.RED}sell on breakout end{Style.RESET_ALL}\")\n",
    "\n",
    "cmd=f\"freqtrade backtesting --dmmp --strategy {STRATEGY} --config {MAINCONF} --timeframe {TIMEFRAME} \"\\\n",
    "    f\"--timerange {TIMERANGE} --enable-protections\"\n",
    "\n",
    "output = run(cmd)\n",
    "print(extract_worst_pairs(output))"
   ]
  },
  {
   "cell_type": "code",
   "execution_count": 136,
   "id": "f6e6e20e-eecb-412d-82fb-4ca930da64c0",
   "metadata": {},
   "outputs": [
    {
     "name": "stdout",
     "output_type": "stream",
     "text": [
      "Testing hyperopted \u001b[34mErumperator\u001b[0m on \u001b[34m12h@YTD with checks and with protections\u001b[0m\n",
      "Params: \u001b[33mBL 23\u001b[0m\n",
      "Strategy: \u001b[32mbuy on resistance_breakout\u001b[0m and \u001b[31msell on breakout end\u001b[0m\n",
      "Function took \u001b[31m20.73\u001b[0m seconds to execute.\n",
      "\n",
      "================================================================== BACKTESTING REPORT =================================================================\n",
      "|               Pair |   Entries |   Avg Profit % |   Cum Profit % |   Tot Profit USDT |   Tot Profit % |      Avg Duration |   Win  Draw  Loss  Win% |\n",
      "|--------------------+-----------+----------------+----------------+-------------------+----------------+-------------------+-------------------------|\n",
      "|      EOS/USDT:USDT |         3 |          -7.36 |         -22.09 |           -22.080 |          -2.21 |  5 days, 12:00:00 |     0     0     3     0 |\n",
      "|      CRV/USDT:USDT |         7 |          -3.49 |         -24.45 |           -24.438 |          -2.44 |   3 days, 5:09:00 |     1     0     6  14.3 |\n",
      "|      CFX/USDT:USDT |         4 |          -7.34 |         -29.35 |           -29.287 |          -2.93 |   1 day, 15:00:00 |     0     0     4     0 |\n",
      "|     AAVE/USDT:USDT |         5 |          -6.14 |         -30.68 |           -29.682 |          -2.97 |          21:36:00 |     0     0     5     0 |\n",
      "|      SNX/USDT:USDT |        11 |          -6.67 |         -73.36 |           -73.256 |          -7.33 |   2 days, 8:44:00 |     1     0    10   9.1 |\n",
      "=======================================================================================================================================================\n"
     ]
    }
   ],
   "source": [
    "TIMEFRAME=\"12h\"\n",
    "TIMERANGE=YTD\n",
    "\n",
    "print(f\"Testing hyperopted {Fore.BLUE}{STRATEGY}{Style.RESET_ALL} on {Fore.BLUE}{TIMEFRAME}@YTD with checks and with protections{Style.RESET_ALL}\")\n",
    "print(update_params(23))\n",
    "print(f\"Strategy: {Fore.GREEN}buy on resistance_breakout{Style.RESET_ALL} and {Fore.RED}sell on breakout end{Style.RESET_ALL}\")\n",
    "\n",
    "cmd=f\"freqtrade backtesting --dmmp --strategy {STRATEGY} --config {MAINCONF} --timeframe {TIMEFRAME} \"\\\n",
    "    f\"--timerange {TIMERANGE} --enable-protections\"\n",
    "\n",
    "output = run(cmd)\n",
    "print(extract_worst_pairs(output))"
   ]
  },
  {
   "cell_type": "code",
   "execution_count": 133,
   "id": "386aea67-7f7a-45c5-8a91-a8afbd0b6dbd",
   "metadata": {},
   "outputs": [
    {
     "name": "stdout",
     "output_type": "stream",
     "text": [
      "Testing hyperopted \u001b[34mErumperator\u001b[0m on \u001b[34m8h@FULL with checks and with protections\u001b[0m\n",
      "Params: \u001b[33mBL 27\u001b[0m\n",
      "Strategy: \u001b[32mbuy on resistance_breakout\u001b[0m and \u001b[31msell on start_support_breakout\u001b[0m\n",
      "Function took \u001b[31m11.85\u001b[0m seconds to execute.\n",
      "\n",
      "================================================================== BACKTESTING REPORT =================================================================\n",
      "|               Pair |   Entries |   Avg Profit % |   Cum Profit % |   Tot Profit USDT |   Tot Profit % |      Avg Duration |   Win  Draw  Loss  Win% |\n",
      "|--------------------+-----------+----------------+----------------+-------------------+----------------+-------------------+-------------------------|\n",
      "|     TOMO/USDT:USDT |         6 |          -4.61 |         -27.64 |           -27.106 |          -2.71 |   8 days, 4:00:00 |     2     0     4  33.3 |\n",
      "|      OGN/USDT:USDT |         5 |          -6.67 |         -33.36 |           -33.168 |          -3.32 |    1 day, 4:48:00 |     1     0     4  20.0 |\n",
      "|      CRV/USDT:USDT |        11 |          -3.37 |         -37.02 |           -36.926 |          -3.69 |   6 days, 8:44:00 |     4     0     7  36.4 |\n",
      "|     DOGE/USDT:USDT |         6 |          -7.75 |         -46.49 |           -46.455 |          -4.65 | 10 days, 14:40:00 |     1     0     5  16.7 |\n",
      "|     STMX/USDT:USDT |         7 |          -8.15 |         -57.04 |           -57.035 |          -5.70 |  3 days, 12:34:00 |     1     0     6  14.3 |\n",
      "=======================================================================================================================================================\n"
     ]
    }
   ],
   "source": [
    "TIMEFRAME=\"8h\"\n",
    "TIMERANGE=FULL\n",
    "\n",
    "print(f\"Testing hyperopted {Fore.BLUE}{STRATEGY}{Style.RESET_ALL} on {Fore.BLUE}{TIMEFRAME}@FULL with checks and with protections{Style.RESET_ALL}\")\n",
    "print(update_params(27))\n",
    "print(f\"Strategy: {Fore.GREEN}buy on resistance_breakout{Style.RESET_ALL} and {Fore.RED}sell on start_support_breakout{Style.RESET_ALL}\")\n",
    "\n",
    "cmd=f\"freqtrade backtesting --dmmp --strategy {STRATEGY} --config {MAINCONF} --timeframe {TIMEFRAME} \"\\\n",
    "    f\"--timerange {TIMERANGE} --enable-protections\"\n",
    "\n",
    "output = run(cmd)\n",
    "print(extract_worst_pairs(output))"
   ]
  },
  {
   "cell_type": "code",
   "execution_count": 132,
   "id": "28e729ab-771a-4cdb-b702-4ffe10f76c49",
   "metadata": {},
   "outputs": [
    {
     "name": "stdout",
     "output_type": "stream",
     "text": [
      "Testing hyperopted \u001b[34mErumperator\u001b[0m on \u001b[34m12h@R21TD with checks and with protections\u001b[0m\n",
      "Params: \u001b[33mBL 27\u001b[0m\n",
      "Strategy: \u001b[32mbuy on resistance_breakout\u001b[0m and \u001b[31msell on start_support_breakout\u001b[0m\n",
      "Function took \u001b[31m47.92\u001b[0m seconds to execute.\n",
      "\n",
      "================================================================== BACKTESTING REPORT =================================================================\n",
      "|               Pair |   Entries |   Avg Profit % |   Cum Profit % |   Tot Profit USDT |   Tot Profit % |      Avg Duration |   Win  Draw  Loss  Win% |\n",
      "|--------------------+-----------+----------------+----------------+-------------------+----------------+-------------------+-------------------------|\n",
      "|     AVAX/USDT:USDT |        18 |          -6.53 |        -117.55 |          -101.468 |         -10.15 | 11 days, 14:40:00 |     5     0    13  27.8 |\n",
      "|      CRV/USDT:USDT |        26 |          -4.10 |        -106.52 |          -106.377 |         -10.64 | 11 days, 13:23:00 |     7     0    19  26.9 |\n",
      "|      DOT/USDT:USDT |        16 |          -6.80 |        -108.84 |          -106.617 |         -10.66 | 10 days, 15:00:00 |     3     0    13  18.8 |\n",
      "|      OGN/USDT:USDT |        19 |          -5.74 |        -108.98 |          -108.637 |         -10.86 |   9 days, 5:41:00 |     5     0    14  26.3 |\n",
      "|      SNX/USDT:USDT |        31 |         -10.50 |        -325.42 |          -324.763 |         -32.48 |   7 days, 5:02:00 |     3     0    28   9.7 |\n",
      "=======================================================================================================================================================\n"
     ]
    }
   ],
   "source": [
    "TIMEFRAME=\"12h\"\n",
    "TIMERANGE=R21TD\n",
    "\n",
    "print(f\"Testing hyperopted {Fore.BLUE}{STRATEGY}{Style.RESET_ALL} on {Fore.BLUE}{TIMEFRAME}@R21TD with checks and with protections{Style.RESET_ALL}\")\n",
    "print(update_params(27))\n",
    "print(f\"Strategy: {Fore.GREEN}buy on resistance_breakout{Style.RESET_ALL} and {Fore.RED}sell on start_support_breakout{Style.RESET_ALL}\")\n",
    "\n",
    "cmd=f\"freqtrade backtesting --dmmp --strategy {STRATEGY} --config {MAINCONF} --timeframe {TIMEFRAME} \"\\\n",
    "    f\"--timerange {TIMERANGE} --enable-protections\"\n",
    "\n",
    "output = run(cmd)\n",
    "print(extract_worst_pairs(output))"
   ]
  },
  {
   "cell_type": "code",
   "execution_count": 131,
   "id": "f7d70899-e02a-497d-8d91-645aa5fffe2e",
   "metadata": {},
   "outputs": [
    {
     "name": "stdout",
     "output_type": "stream",
     "text": [
      "Testing hyperopted \u001b[34mErumperator\u001b[0m on \u001b[34m12h@YTD with checks and with protections\u001b[0m\n",
      "Params: \u001b[33mBL 27\u001b[0m\n",
      "Strategy: \u001b[32mbuy on resistance_breakout\u001b[0m and \u001b[31msell on start_support_breakout\u001b[0m\n",
      "Function took \u001b[31m20.28\u001b[0m seconds to execute.\n",
      "\n",
      "================================================================== BACKTESTING REPORT =================================================================\n",
      "|               Pair |   Entries |   Avg Profit % |   Cum Profit % |   Tot Profit USDT |   Tot Profit % |      Avg Duration |   Win  Draw  Loss  Win% |\n",
      "|--------------------+-----------+----------------+----------------+-------------------+----------------+-------------------+-------------------------|\n",
      "|     CELO/USDT:USDT |         2 |          -9.20 |         -18.40 |           -18.395 |          -1.84 |  2 days, 12:00:00 |     0     0     2     0 |\n",
      "|      ARB/USDT:USDT |         2 |          -9.71 |         -19.42 |           -19.400 |          -1.94 |  16 days, 6:00:00 |     0     0     2     0 |\n",
      "|      LTC/USDT:USDT |         6 |          -3.51 |         -21.07 |           -21.067 |          -2.11 | 15 days, 18:00:00 |     1     0     5  16.7 |\n",
      "|      EOS/USDT:USDT |         5 |          -5.83 |         -29.13 |           -29.116 |          -2.91 |   5 days, 2:24:00 |     1     0     4  20.0 |\n",
      "|      SNX/USDT:USDT |         5 |         -11.00 |         -55.01 |           -54.940 |          -5.49 |   6 days, 0:00:00 |     0     0     5     0 |\n",
      "=======================================================================================================================================================\n"
     ]
    }
   ],
   "source": [
    "TIMEFRAME=\"12h\"\n",
    "TIMERANGE=YTD\n",
    "\n",
    "print(f\"Testing hyperopted {Fore.BLUE}{STRATEGY}{Style.RESET_ALL} on {Fore.BLUE}{TIMEFRAME}@YTD with checks and with protections{Style.RESET_ALL}\")\n",
    "print(update_params(27))\n",
    "print(f\"Strategy: {Fore.GREEN}buy on resistance_breakout{Style.RESET_ALL} and {Fore.RED}sell on start_support_breakout{Style.RESET_ALL}\")\n",
    "\n",
    "cmd=f\"freqtrade backtesting --dmmp --strategy {STRATEGY} --config {MAINCONF} --timeframe {TIMEFRAME} \"\\\n",
    "    f\"--timerange {TIMERANGE} --enable-protections\"\n",
    "\n",
    "output = run(cmd)\n",
    "print(extract_worst_pairs(output))"
   ]
  },
  {
   "cell_type": "markdown",
   "id": "eb9e6e1b-ba37-4dd3-8afe-13d8891e243c",
   "metadata": {},
   "source": [
    "# Final test"
   ]
  }
 ],
 "metadata": {
  "kernelspec": {
   "display_name": "Python 3 (ipykernel)",
   "language": "python",
   "name": "python3"
  },
  "language_info": {
   "codemirror_mode": {
    "name": "ipython",
    "version": 3
   },
   "file_extension": ".py",
   "mimetype": "text/x-python",
   "name": "python",
   "nbconvert_exporter": "python",
   "pygments_lexer": "ipython3",
   "version": "3.11.4"
  },
  "widgets": {
   "application/vnd.jupyter.widget-state+json": {
    "state": {},
    "version_major": 2,
    "version_minor": 0
   }
  }
 },
 "nbformat": 4,
 "nbformat_minor": 5
}
